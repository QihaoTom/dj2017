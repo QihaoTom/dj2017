{
 "cells": [
  {
   "cell_type": "markdown",
   "metadata": {},
   "source": [
    "This tutorial was partially adapted from http://enipedia.tudelft.nl/wiki/OpenRefine_Tutorial, where you can learn more about Open Refine. It used to be called Google Refine so try that too when you are searching for information. However, in our case, we use python to do the same thing."
   ]
  },
  {
   "cell_type": "markdown",
   "metadata": {},
   "source": [
    "# Downloading Data\n",
    "\n",
    "The university data can be downloaed from http://enipedia.tudelft.nl/enipedia/images/f/ff/UniversityData.zip"
   ]
  },
  {
   "cell_type": "markdown",
   "metadata": {
    "ExecuteTime": {
     "end_time": "2017-11-19T16:50:30.266524",
     "start_time": "2017-11-19T16:50:30.260991"
    }
   },
   "source": [
    "## What you can learn\n",
    "\n",
    "The data contains quite a few issues, and this tutorial shows how to do things like:\n",
    "\n",
    "- Cleaning up inconsistent spelling of terms (i.e. \"USA\", \"U.S.A\", \"U.S.\", etc).\n",
    "- Converting values that are text descriptions of numeric values (i.e. $123 million) to actual numeric values (i.e. 123000000) which are usable for analysis.\n",
    "- Identifying which rows of a specific column contain a search term\n",
    "- Extracting and cleaning values for dates\n",
    "- Removing duplicate rows\n",
    "- Using a scatterplot to visualize relationships between values in different columns\n",
    "- Finding geographic coordinates for a list of place names (i.e. the names of universities, etc.)\n",
    "- Exporting cleaned data to Excel"
   ]
  },
  {
   "cell_type": "markdown",
   "metadata": {},
   "source": [
    "# Reading Data with Pandas"
   ]
  },
  {
   "cell_type": "code",
   "execution_count": 595,
   "metadata": {
    "ExecuteTime": {
     "end_time": "2017-11-19T21:19:13.928884",
     "start_time": "2017-11-19T21:19:13.922138"
    },
    "collapsed": true
   },
   "outputs": [],
   "source": [
    "%matplotlib inline\n",
    "import sys\n",
    "import pandas as pd\n",
    "import statsmodels.api as sm\n",
    "from collections import Counter, defaultdict\n",
    "import numpy as np\n",
    "import datetime\n",
    "import matplotlib.pyplot as plt\n",
    "import matplotlib\n",
    "\n",
    "matplotlib.style.use('ggplot')"
   ]
  },
  {
   "cell_type": "code",
   "execution_count": 596,
   "metadata": {
    "ExecuteTime": {
     "end_time": "2017-11-19T21:19:14.032156",
     "start_time": "2017-11-19T21:19:13.930348"
    },
    "collapsed": false
   },
   "outputs": [
    {
     "data": {
      "text/html": [
       "<div>\n",
       "<table border=\"1\" class=\"dataframe\">\n",
       "  <thead>\n",
       "    <tr style=\"text-align: right;\">\n",
       "      <th></th>\n",
       "      <th>university</th>\n",
       "      <th>endowment</th>\n",
       "      <th>numFaculty</th>\n",
       "      <th>numDoctoral</th>\n",
       "      <th>country</th>\n",
       "      <th>numStaff</th>\n",
       "      <th>established</th>\n",
       "      <th>numPostgrad</th>\n",
       "      <th>numUndergrad</th>\n",
       "      <th>numStudents</th>\n",
       "    </tr>\n",
       "  </thead>\n",
       "  <tbody>\n",
       "    <tr>\n",
       "      <th>0</th>\n",
       "      <td>Paris Universitas</td>\n",
       "      <td>15</td>\n",
       "      <td>5500</td>\n",
       "      <td>8000</td>\n",
       "      <td>France</td>\n",
       "      <td>NaN</td>\n",
       "      <td>2005</td>\n",
       "      <td>NaN</td>\n",
       "      <td>25000</td>\n",
       "      <td>70000</td>\n",
       "    </tr>\n",
       "    <tr>\n",
       "      <th>1</th>\n",
       "      <td>Paris Universitas</td>\n",
       "      <td>15</td>\n",
       "      <td>5500</td>\n",
       "      <td>8000</td>\n",
       "      <td>France</td>\n",
       "      <td>NaN</td>\n",
       "      <td>2005</td>\n",
       "      <td>NaN</td>\n",
       "      <td>25000</td>\n",
       "      <td>70000</td>\n",
       "    </tr>\n",
       "    <tr>\n",
       "      <th>2</th>\n",
       "      <td>Lumi%C3%A8re University Lyon 2</td>\n",
       "      <td>121</td>\n",
       "      <td>NaN</td>\n",
       "      <td>1355</td>\n",
       "      <td>France</td>\n",
       "      <td>NaN</td>\n",
       "      <td>1835</td>\n",
       "      <td>7046</td>\n",
       "      <td>14851</td>\n",
       "      <td>27393</td>\n",
       "    </tr>\n",
       "    <tr>\n",
       "      <th>3</th>\n",
       "      <td>Confederation College</td>\n",
       "      <td>4700000</td>\n",
       "      <td>NaN</td>\n",
       "      <td>NaN</td>\n",
       "      <td>Canada</td>\n",
       "      <td>NaN</td>\n",
       "      <td>1967</td>\n",
       "      <td>not available</td>\n",
       "      <td>pre-university students; technical</td>\n",
       "      <td>21160</td>\n",
       "    </tr>\n",
       "    <tr>\n",
       "      <th>4</th>\n",
       "      <td>Rocky Mountain College</td>\n",
       "      <td>16586100</td>\n",
       "      <td>NaN</td>\n",
       "      <td>NaN</td>\n",
       "      <td>United States</td>\n",
       "      <td>NaN</td>\n",
       "      <td>1878</td>\n",
       "      <td>66</td>\n",
       "      <td>878</td>\n",
       "      <td>894</td>\n",
       "    </tr>\n",
       "  </tbody>\n",
       "</table>\n",
       "</div>"
      ],
      "text/plain": [
       "                       university endowment numFaculty numDoctoral  \\\n",
       "0               Paris Universitas        15       5500        8000   \n",
       "1               Paris Universitas        15       5500        8000   \n",
       "2  Lumi%C3%A8re University Lyon 2       121        NaN        1355   \n",
       "3           Confederation College   4700000        NaN         NaN   \n",
       "4          Rocky Mountain College  16586100        NaN         NaN   \n",
       "\n",
       "         country numStaff established    numPostgrad  \\\n",
       "0         France      NaN        2005            NaN   \n",
       "1         France      NaN        2005            NaN   \n",
       "2         France      NaN        1835           7046   \n",
       "3         Canada      NaN        1967  not available   \n",
       "4  United States      NaN        1878             66   \n",
       "\n",
       "                         numUndergrad numStudents  \n",
       "0                               25000       70000  \n",
       "1                               25000       70000  \n",
       "2                               14851       27393  \n",
       "3  pre-university students; technical       21160  \n",
       "4                                 878         894  "
      ]
     },
     "execution_count": 596,
     "metadata": {},
     "output_type": "execute_result"
    }
   ],
   "source": [
    "df = pd.read_csv('universityData.csv', sep = '\\t')\n",
    "\n",
    "df.head()"
   ]
  },
  {
   "cell_type": "code",
   "execution_count": 597,
   "metadata": {
    "ExecuteTime": {
     "end_time": "2017-11-19T21:19:14.040230",
     "start_time": "2017-11-19T21:19:14.033820"
    },
    "collapsed": false
   },
   "outputs": [
    {
     "name": "stdout",
     "output_type": "stream",
     "text": [
      "Lumi%C3%A8re University Lyon 2\n"
     ]
    }
   ],
   "source": [
    "print df.university[2]"
   ]
  },
  {
   "cell_type": "markdown",
   "metadata": {},
   "source": [
    "Apparently, there are duplicate rows."
   ]
  },
  {
   "cell_type": "code",
   "execution_count": 598,
   "metadata": {
    "ExecuteTime": {
     "end_time": "2017-11-19T21:19:14.045155",
     "start_time": "2017-11-19T21:19:14.041815"
    },
    "collapsed": false
   },
   "outputs": [
    {
     "data": {
      "text/plain": [
       "75043"
      ]
     },
     "execution_count": 598,
     "metadata": {},
     "output_type": "execute_result"
    }
   ],
   "source": [
    "len(df)"
   ]
  },
  {
   "cell_type": "markdown",
   "metadata": {
    "ExecuteTime": {
     "end_time": "2017-11-19T19:27:58.525341",
     "start_time": "2017-11-19T19:27:58.522623"
    }
   },
   "source": [
    "# Deduplicate entries"
   ]
  },
  {
   "cell_type": "code",
   "execution_count": 599,
   "metadata": {
    "ExecuteTime": {
     "end_time": "2017-11-19T21:19:14.080189",
     "start_time": "2017-11-19T21:19:14.046678"
    },
    "collapsed": false
   },
   "outputs": [
    {
     "data": {
      "text/plain": [
       "15534"
      ]
     },
     "execution_count": 599,
     "metadata": {},
     "output_type": "execute_result"
    }
   ],
   "source": [
    "df = df.drop_duplicates()\n",
    "len(df)"
   ]
  },
  {
   "cell_type": "markdown",
   "metadata": {},
   "source": [
    "We already see an issue here where there is both the full name of a country (United States) and its abbreviation (US). To fix this, we can just copy/paste \"United States\" as the new cell value.\n"
   ]
  },
  {
   "cell_type": "markdown",
   "metadata": {},
   "source": [
    "# Clean up country names"
   ]
  },
  {
   "cell_type": "code",
   "execution_count": 600,
   "metadata": {
    "ExecuteTime": {
     "end_time": "2017-11-19T21:19:14.086985",
     "start_time": "2017-11-19T21:19:14.081721"
    },
    "collapsed": false
   },
   "outputs": [
    {
     "data": {
      "text/plain": [
       "array(['France', 'Canada', 'United States', 'USA', 'Italy', 'South Korea',\n",
       "       'Japan', 'United States of America', 'England, UK',\n",
       "       'United States )', 'Saudi Arabia', 'Honduras', 'United Kingdom',\n",
       "       'England', 'the Netherlands', 'India', 'Russia', 'U.S.', 'Brazil',\n",
       "       'US', 'U.S.A.', 'Philippines', 'Australia',\n",
       "       'England, United Kingdom', 'Wales', ',', 'China', 'South Africa',\n",
       "       'UK', 'Puerto Rico', 'Bulgaria', 'Botswana', 'Taiwan', 'Sri Lanka',\n",
       "       'Colombia', 'Iran', 'Russian Federation', 'Rossija', 'Finland',\n",
       "       'Republic of China', 'Chile', 'Romania', 'Utopia', 'Singapore',\n",
       "       'Lebanon', 'Turkey', 'Canada B1P 6L2', 'Jordan', 'Albania',\n",
       "       'Canada C1A 4P3 Telephone: 902-566-0439 Fax: 902-566-0795',\n",
       "       'Scotland', 'Pakistan', 'Scotland, United Kingdom', 'Denmark',\n",
       "       'Mexico', 'Thailand', 'Argentina', 'Cura%C3%A7ao', 'Sweden',\n",
       "       'Scotland, UK', 'Bangladesh', 'Nepal', 'Netherlands', 'Switzerland',\n",
       "       'Egypt', 'Spain', 'Satellite locations:',\n",
       "       'Nassau, Bahamas Fort Myers, FL Jacksonville, FL Miami, FL Miramar, FL Orlando, FL Palm Beach, FL Tampa, FL'], dtype=object)"
      ]
     },
     "execution_count": 600,
     "metadata": {},
     "output_type": "execute_result"
    }
   ],
   "source": [
    "df['country'].unique()"
   ]
  },
  {
   "cell_type": "code",
   "execution_count": 601,
   "metadata": {
    "ExecuteTime": {
     "end_time": "2017-11-19T21:19:14.095780",
     "start_time": "2017-11-19T21:19:14.089141"
    },
    "collapsed": false
   },
   "outputs": [
    {
     "name": "stdout",
     "output_type": "stream",
     "text": [
      "(',', 2)\n",
      "('Albania', 8)\n",
      "('Argentina', 1)\n",
      "('Australia', 49)\n",
      "('Bangladesh', 27)\n",
      "('Botswana', 1)\n",
      "('Brazil', 10)\n",
      "('Bulgaria', 2)\n",
      "('Canada', 625)\n",
      "('Canada B1P 6L2', 40)\n",
      "('Canada C1A 4P3 Telephone: 902-566-0439 Fax: 902-566-0795', 1)\n",
      "('Chile', 1)\n",
      "('China', 4)\n",
      "('Colombia', 1)\n",
      "('Cura%C3%A7ao', 1)\n",
      "('Denmark', 8)\n",
      "('Egypt', 1)\n",
      "('England', 338)\n",
      "('England, UK', 286)\n",
      "('England, United Kingdom', 64)\n",
      "('Finland', 2)\n",
      "('France', 8)\n",
      "('Honduras', 1)\n",
      "('India', 40)\n",
      "('Iran', 9)\n",
      "('Italy', 2)\n",
      "('Japan', 112)\n",
      "('Jordan', 2)\n",
      "('Lebanon', 5)\n",
      "('Mexico', 2)\n",
      "('Nassau, Bahamas Fort Myers, FL Jacksonville, FL Miami, FL Miramar, FL Orlando, FL Palm Beach, FL Tampa, FL', 1)\n",
      "('Nepal', 4)\n",
      "('Netherlands', 2)\n",
      "('Pakistan', 2)\n",
      "('Philippines', 147)\n",
      "('Puerto Rico', 2)\n",
      "('Republic of China', 1)\n",
      "('Romania', 1)\n",
      "('Rossija', 2)\n",
      "('Russia', 1)\n",
      "('Russian Federation', 2)\n",
      "('Satellite locations:', 1)\n",
      "('Saudi Arabia', 1)\n",
      "('Scotland', 64)\n",
      "('Scotland, UK', 16)\n",
      "('Scotland, United Kingdom', 16)\n",
      "('Singapore', 4)\n",
      "('South Africa', 7)\n",
      "('South Korea', 7)\n",
      "('Spain', 1)\n",
      "('Sri Lanka', 4)\n",
      "('Sweden', 24)\n",
      "('Switzerland', 8)\n",
      "('Taiwan', 1)\n",
      "('Thailand', 4)\n",
      "('Turkey', 4)\n",
      "('U.S.', 304)\n",
      "('U.S.A.', 81)\n",
      "('UK', 83)\n",
      "('US', 455)\n",
      "('USA', 5104)\n",
      "('United Kingdom', 405)\n",
      "('United States', 6949)\n",
      "('United States )', 1)\n",
      "('United States of America', 167)\n",
      "('Utopia', 1)\n",
      "('Wales', 2)\n",
      "('the Netherlands', 2)\n"
     ]
    }
   ],
   "source": [
    "country_df = df.groupby('country').size()\n",
    "for k in country_df.index:\n",
    "    print(k, country_df[k])"
   ]
  },
  {
   "cell_type": "code",
   "execution_count": 602,
   "metadata": {
    "ExecuteTime": {
     "end_time": "2017-11-19T21:19:14.139360",
     "start_time": "2017-11-19T21:19:14.097267"
    },
    "collapsed": true
   },
   "outputs": [],
   "source": [
    "us_condition = df['country'].isin(['U.S.', 'U.S.A.', 'US', 'United States', 'United States )', 'United States of America'])\n",
    "df['country'][us_condition]  = 'USA'"
   ]
  },
  {
   "cell_type": "code",
   "execution_count": 603,
   "metadata": {
    "ExecuteTime": {
     "end_time": "2017-11-19T21:19:14.156217",
     "start_time": "2017-11-19T21:19:14.141097"
    },
    "collapsed": false
   },
   "outputs": [],
   "source": [
    "ca_condition =[]\n",
    "for i in df['country']:\n",
    "    if i.__contains__('Canada'):\n",
    "        ca_condition.append(True)\n",
    "    else:\n",
    "        ca_condition.append(False)\n",
    "df['country'][ca_condition]  = 'Canada'"
   ]
  },
  {
   "cell_type": "code",
   "execution_count": 604,
   "metadata": {
    "ExecuteTime": {
     "end_time": "2017-11-19T21:19:14.173520",
     "start_time": "2017-11-19T21:19:14.157803"
    },
    "collapsed": true
   },
   "outputs": [],
   "source": [
    "ca_condition =[]\n",
    "for i in df['country']:\n",
    "    if i.__contains__('China'):\n",
    "        ca_condition.append(True)\n",
    "    else:\n",
    "        ca_condition.append(False)\n",
    "df['country'][ca_condition]  = 'China'"
   ]
  },
  {
   "cell_type": "code",
   "execution_count": 605,
   "metadata": {
    "ExecuteTime": {
     "end_time": "2017-11-19T21:19:14.190891",
     "start_time": "2017-11-19T21:19:14.175116"
    },
    "collapsed": true
   },
   "outputs": [],
   "source": [
    "ca_condition =[]\n",
    "for i in df['country']:\n",
    "    if i.__contains__('England'):\n",
    "        ca_condition.append(True)\n",
    "    else:\n",
    "        ca_condition.append(False)\n",
    "df['country'][ca_condition]  = 'England'"
   ]
  },
  {
   "cell_type": "code",
   "execution_count": 606,
   "metadata": {
    "ExecuteTime": {
     "end_time": "2017-11-19T21:19:14.207445",
     "start_time": "2017-11-19T21:19:14.192491"
    },
    "collapsed": true
   },
   "outputs": [],
   "source": [
    "ca_condition =[]\n",
    "for i in df['country']:\n",
    "    if i.__contains__('Scotland'):\n",
    "        ca_condition.append(True)\n",
    "    else:\n",
    "        ca_condition.append(False)\n",
    "df['country'][ca_condition]  = 'England'"
   ]
  },
  {
   "cell_type": "code",
   "execution_count": 607,
   "metadata": {
    "ExecuteTime": {
     "end_time": "2017-11-19T21:19:14.217905",
     "start_time": "2017-11-19T21:19:14.209144"
    },
    "collapsed": true
   },
   "outputs": [],
   "source": [
    "uk_condition = df['country'].isin(['UK', 'United Kingdom', 'Wales'])\n",
    "df['country'][uk_condition]  = 'England'"
   ]
  },
  {
   "cell_type": "code",
   "execution_count": 608,
   "metadata": {
    "ExecuteTime": {
     "end_time": "2017-11-19T21:19:14.233993",
     "start_time": "2017-11-19T21:19:14.219513"
    },
    "collapsed": true
   },
   "outputs": [],
   "source": [
    "ca_condition =[]\n",
    "for i in df['country']:\n",
    "    if i.__contains__('Netherlands'):\n",
    "        ca_condition.append(True)\n",
    "    else:\n",
    "        ca_condition.append(False)\n",
    "df['country'][ca_condition]  = 'Netherlands'"
   ]
  },
  {
   "cell_type": "code",
   "execution_count": 609,
   "metadata": {
    "ExecuteTime": {
     "end_time": "2017-11-19T21:19:14.249584",
     "start_time": "2017-11-19T21:19:14.235862"
    },
    "collapsed": true
   },
   "outputs": [],
   "source": [
    "ca_condition =[]\n",
    "for i in df['country']:\n",
    "    if i.__contains__('Russia'):\n",
    "        ca_condition.append(True)\n",
    "    else:\n",
    "        ca_condition.append(False)\n",
    "df['country'][ca_condition]  = 'Russia'"
   ]
  },
  {
   "cell_type": "code",
   "execution_count": 610,
   "metadata": {
    "ExecuteTime": {
     "end_time": "2017-11-19T21:19:14.266335",
     "start_time": "2017-11-19T21:19:14.251158"
    },
    "collapsed": true
   },
   "outputs": [],
   "source": [
    "ca_condition =[]\n",
    "for i in df['country']:\n",
    "    if i.__contains__('Bahamas'):\n",
    "        ca_condition.append(True)\n",
    "    else:\n",
    "        ca_condition.append(False)\n",
    "df['country'][ca_condition]  = 'Bahamas'"
   ]
  },
  {
   "cell_type": "code",
   "execution_count": 611,
   "metadata": {
    "ExecuteTime": {
     "end_time": "2017-11-19T21:19:14.272082",
     "start_time": "2017-11-19T21:19:14.268011"
    },
    "collapsed": false
   },
   "outputs": [
    {
     "data": {
      "text/plain": [
       "True"
      ]
     },
     "execution_count": 611,
     "metadata": {},
     "output_type": "execute_result"
    }
   ],
   "source": [
    "'Russian Federation'.__contains__('Russia')"
   ]
  },
  {
   "cell_type": "code",
   "execution_count": 612,
   "metadata": {
    "ExecuteTime": {
     "end_time": "2017-11-19T21:19:14.282069",
     "start_time": "2017-11-19T21:19:14.273665"
    },
    "collapsed": true
   },
   "outputs": [],
   "source": [
    "uk_condition = df['country']=='Cura%C3%A7ao'\n",
    "df['country'][uk_condition]  = \"Curacao\""
   ]
  },
  {
   "cell_type": "code",
   "execution_count": 613,
   "metadata": {
    "ExecuteTime": {
     "end_time": "2017-11-19T21:19:14.301338",
     "start_time": "2017-11-19T21:19:14.283659"
    },
    "collapsed": false
   },
   "outputs": [
    {
     "data": {
      "text/html": [
       "<div>\n",
       "<table border=\"1\" class=\"dataframe\">\n",
       "  <thead>\n",
       "    <tr style=\"text-align: right;\">\n",
       "      <th></th>\n",
       "      <th>university</th>\n",
       "      <th>endowment</th>\n",
       "      <th>numFaculty</th>\n",
       "      <th>numDoctoral</th>\n",
       "      <th>country</th>\n",
       "      <th>numStaff</th>\n",
       "      <th>established</th>\n",
       "      <th>numPostgrad</th>\n",
       "      <th>numUndergrad</th>\n",
       "      <th>numStudents</th>\n",
       "    </tr>\n",
       "  </thead>\n",
       "  <tbody>\n",
       "    <tr>\n",
       "      <th>2130</th>\n",
       "      <td>Universidad Ju%C3%A1rez Aut%C3%B3noma de Tabasco</td>\n",
       "      <td>23760.0</td>\n",
       "      <td>2188</td>\n",
       "      <td>NaN</td>\n",
       "      <td>,</td>\n",
       "      <td>1087</td>\n",
       "      <td>1958-11-20</td>\n",
       "      <td>971</td>\n",
       "      <td>24921</td>\n",
       "      <td>35271</td>\n",
       "    </tr>\n",
       "    <tr>\n",
       "      <th>3077</th>\n",
       "      <td>Universidad Ju%C3%A1rez Aut%C3%B3noma de Tabasco</td>\n",
       "      <td>34140.0</td>\n",
       "      <td>2188</td>\n",
       "      <td>NaN</td>\n",
       "      <td>,</td>\n",
       "      <td>1087</td>\n",
       "      <td>1958-11-20</td>\n",
       "      <td>971</td>\n",
       "      <td>24921</td>\n",
       "      <td>35271</td>\n",
       "    </tr>\n",
       "  </tbody>\n",
       "</table>\n",
       "</div>"
      ],
      "text/plain": [
       "                                            university endowment numFaculty  \\\n",
       "2130  Universidad Ju%C3%A1rez Aut%C3%B3noma de Tabasco   23760.0       2188   \n",
       "3077  Universidad Ju%C3%A1rez Aut%C3%B3noma de Tabasco   34140.0       2188   \n",
       "\n",
       "     numDoctoral country numStaff established numPostgrad numUndergrad  \\\n",
       "2130         NaN       ,     1087  1958-11-20         971        24921   \n",
       "3077         NaN       ,     1087  1958-11-20         971        24921   \n",
       "\n",
       "     numStudents  \n",
       "2130       35271  \n",
       "3077       35271  "
      ]
     },
     "execution_count": 613,
     "metadata": {},
     "output_type": "execute_result"
    }
   ],
   "source": [
    "df[df['country']==',']"
   ]
  },
  {
   "cell_type": "markdown",
   "metadata": {},
   "source": [
    "\n",
    "Universidad Juárez Autónoma de Tabasco is a public institution of higher learning located in Villahermosa, Tabasco, Mexico."
   ]
  },
  {
   "cell_type": "code",
   "execution_count": 614,
   "metadata": {
    "ExecuteTime": {
     "end_time": "2017-11-19T21:19:14.312629",
     "start_time": "2017-11-19T21:19:14.303046"
    },
    "collapsed": true
   },
   "outputs": [],
   "source": [
    "uk_condition = df['country']==','\n",
    "df['country'][uk_condition]  = \"Mexico\""
   ]
  },
  {
   "cell_type": "code",
   "execution_count": 615,
   "metadata": {
    "ExecuteTime": {
     "end_time": "2017-11-19T21:19:14.331052",
     "start_time": "2017-11-19T21:19:14.314198"
    },
    "collapsed": false
   },
   "outputs": [
    {
     "data": {
      "text/html": [
       "<div>\n",
       "<table border=\"1\" class=\"dataframe\">\n",
       "  <thead>\n",
       "    <tr style=\"text-align: right;\">\n",
       "      <th></th>\n",
       "      <th>university</th>\n",
       "      <th>endowment</th>\n",
       "      <th>numFaculty</th>\n",
       "      <th>numDoctoral</th>\n",
       "      <th>country</th>\n",
       "      <th>numStaff</th>\n",
       "      <th>established</th>\n",
       "      <th>numPostgrad</th>\n",
       "      <th>numUndergrad</th>\n",
       "      <th>numStudents</th>\n",
       "    </tr>\n",
       "  </thead>\n",
       "  <tbody>\n",
       "    <tr>\n",
       "      <th>75009</th>\n",
       "      <td>Nova Southeastern University</td>\n",
       "      <td>US $64.5 million</td>\n",
       "      <td>2083</td>\n",
       "      <td>NaN</td>\n",
       "      <td>Satellite locations:</td>\n",
       "      <td>4319</td>\n",
       "      <td>1964</td>\n",
       "      <td>22060</td>\n",
       "      <td>6397</td>\n",
       "      <td>28457</td>\n",
       "    </tr>\n",
       "  </tbody>\n",
       "</table>\n",
       "</div>"
      ],
      "text/plain": [
       "                         university         endowment numFaculty numDoctoral  \\\n",
       "75009  Nova Southeastern University  US $64.5 million       2083         NaN   \n",
       "\n",
       "                    country numStaff established numPostgrad numUndergrad  \\\n",
       "75009  Satellite locations:     4319        1964       22060         6397   \n",
       "\n",
       "      numStudents  \n",
       "75009       28457  "
      ]
     },
     "execution_count": 615,
     "metadata": {},
     "output_type": "execute_result"
    }
   ],
   "source": [
    "df[df['country']=='Satellite locations:']"
   ]
  },
  {
   "cell_type": "markdown",
   "metadata": {},
   "source": [
    "Nova Southeastern University (NSU) is a private nonprofit university, with a main campus located on 300 acres (120 ha) in Davie, in the US state of Florida. Formerly referred to as \"Nova\" and now commonly called \"NSU\", the university currently consists of 18 colleges and schools offering over 175 programs of study with more than 250 majors."
   ]
  },
  {
   "cell_type": "code",
   "execution_count": 616,
   "metadata": {
    "ExecuteTime": {
     "end_time": "2017-11-19T21:19:14.342188",
     "start_time": "2017-11-19T21:19:14.332574"
    },
    "collapsed": true
   },
   "outputs": [],
   "source": [
    "uk_condition = df['country']=='Satellite locations:'\n",
    "df['country'][uk_condition]  = \"USA\""
   ]
  },
  {
   "cell_type": "code",
   "execution_count": 617,
   "metadata": {
    "ExecuteTime": {
     "end_time": "2017-11-19T21:19:14.349480",
     "start_time": "2017-11-19T21:19:14.343599"
    },
    "collapsed": false
   },
   "outputs": [
    {
     "name": "stdout",
     "output_type": "stream",
     "text": [
      "('Albania', 8)\n",
      "('Argentina', 1)\n",
      "('Australia', 49)\n",
      "('Bahamas', 1)\n",
      "('Bangladesh', 27)\n",
      "('Botswana', 1)\n",
      "('Brazil', 10)\n",
      "('Bulgaria', 2)\n",
      "('Canada', 666)\n",
      "('Chile', 1)\n",
      "('China', 5)\n",
      "('Colombia', 1)\n",
      "('Curacao', 1)\n",
      "('Denmark', 8)\n",
      "('Egypt', 1)\n",
      "('England', 1274)\n",
      "('Finland', 2)\n",
      "('France', 8)\n",
      "('Honduras', 1)\n",
      "('India', 40)\n",
      "('Iran', 9)\n",
      "('Italy', 2)\n",
      "('Japan', 112)\n",
      "('Jordan', 2)\n",
      "('Lebanon', 5)\n",
      "('Mexico', 4)\n",
      "('Nepal', 4)\n",
      "('Netherlands', 4)\n",
      "('Pakistan', 2)\n",
      "('Philippines', 147)\n",
      "('Puerto Rico', 2)\n",
      "('Romania', 1)\n",
      "('Rossija', 2)\n",
      "('Russia', 3)\n",
      "('Saudi Arabia', 1)\n",
      "('Singapore', 4)\n",
      "('South Africa', 7)\n",
      "('South Korea', 7)\n",
      "('Spain', 1)\n",
      "('Sri Lanka', 4)\n",
      "('Sweden', 24)\n",
      "('Switzerland', 8)\n",
      "('Taiwan', 1)\n",
      "('Thailand', 4)\n",
      "('Turkey', 4)\n",
      "('USA', 13062)\n",
      "('Utopia', 1)\n"
     ]
    }
   ],
   "source": [
    "country_df = df.groupby('country').size()\n",
    "for k in country_df.index:\n",
    "    print(k, country_df[k])"
   ]
  },
  {
   "cell_type": "markdown",
   "metadata": {},
   "source": [
    "# Clean up values for the number of students\n",
    "\n"
   ]
  },
  {
   "cell_type": "markdown",
   "metadata": {},
   "source": [
    "We need to clean the data for the number of students. Not all of the values are numeric, and many of them contain bits of text in addition to the actual number of the students.\n",
    "To figure out which entries need to be fixed, we need to use a Numeric facet:"
   ]
  },
  {
   "cell_type": "code",
   "execution_count": 618,
   "metadata": {
    "ExecuteTime": {
     "end_time": "2017-11-19T21:19:14.412969",
     "start_time": "2017-11-19T21:19:14.350938"
    },
    "collapsed": false
   },
   "outputs": [
    {
     "data": {
      "text/html": [
       "<div>\n",
       "<table border=\"1\" class=\"dataframe\">\n",
       "  <thead>\n",
       "    <tr style=\"text-align: right;\">\n",
       "      <th></th>\n",
       "      <th>university</th>\n",
       "      <th>endowment</th>\n",
       "      <th>numFaculty</th>\n",
       "      <th>numDoctoral</th>\n",
       "      <th>country</th>\n",
       "      <th>numStaff</th>\n",
       "      <th>established</th>\n",
       "      <th>numPostgrad</th>\n",
       "      <th>numUndergrad</th>\n",
       "      <th>numStudents</th>\n",
       "    </tr>\n",
       "  </thead>\n",
       "  <tbody>\n",
       "    <tr>\n",
       "      <th>count</th>\n",
       "      <td>15534</td>\n",
       "      <td>15504</td>\n",
       "      <td>13541</td>\n",
       "      <td>602</td>\n",
       "      <td>15534</td>\n",
       "      <td>3166</td>\n",
       "      <td>15534</td>\n",
       "      <td>15183</td>\n",
       "      <td>15532</td>\n",
       "      <td>13830</td>\n",
       "    </tr>\n",
       "    <tr>\n",
       "      <th>unique</th>\n",
       "      <td>1085</td>\n",
       "      <td>1172</td>\n",
       "      <td>601</td>\n",
       "      <td>63</td>\n",
       "      <td>47</td>\n",
       "      <td>352</td>\n",
       "      <td>448</td>\n",
       "      <td>887</td>\n",
       "      <td>1104</td>\n",
       "      <td>698</td>\n",
       "    </tr>\n",
       "    <tr>\n",
       "      <th>top</th>\n",
       "      <td>Pennsylvania State University</td>\n",
       "      <td>1.708E9</td>\n",
       "      <td>8864</td>\n",
       "      <td>60</td>\n",
       "      <td>USA</td>\n",
       "      <td>3373</td>\n",
       "      <td>1855</td>\n",
       "      <td>800</td>\n",
       "      <td>77,179 Total</td>\n",
       "      <td>800</td>\n",
       "    </tr>\n",
       "    <tr>\n",
       "      <th>freq</th>\n",
       "      <td>8960</td>\n",
       "      <td>4480</td>\n",
       "      <td>8960</td>\n",
       "      <td>192</td>\n",
       "      <td>13062</td>\n",
       "      <td>216</td>\n",
       "      <td>8970</td>\n",
       "      <td>651</td>\n",
       "      <td>896</td>\n",
       "      <td>564</td>\n",
       "    </tr>\n",
       "  </tbody>\n",
       "</table>\n",
       "</div>"
      ],
      "text/plain": [
       "                           university endowment numFaculty numDoctoral  \\\n",
       "count                           15534     15504      13541         602   \n",
       "unique                           1085      1172        601          63   \n",
       "top     Pennsylvania State University   1.708E9       8864          60   \n",
       "freq                             8960      4480       8960         192   \n",
       "\n",
       "       country numStaff established numPostgrad  numUndergrad numStudents  \n",
       "count    15534     3166       15534       15183         15532       13830  \n",
       "unique      47      352         448         887          1104         698  \n",
       "top        USA     3373        1855         800  77,179 Total         800  \n",
       "freq     13062      216        8970         651           896         564  "
      ]
     },
     "execution_count": 618,
     "metadata": {},
     "output_type": "execute_result"
    }
   ],
   "source": [
    "df.describe()"
   ]
  },
  {
   "cell_type": "code",
   "execution_count": 619,
   "metadata": {
    "ExecuteTime": {
     "end_time": "2017-11-19T21:19:14.422317",
     "start_time": "2017-11-19T21:19:14.414550"
    },
    "collapsed": false
   },
   "outputs": [
    {
     "data": {
      "text/plain": [
       "array(['70000', '27393', '21160', '894', '15553', '62801', '65234', nan,\n",
       "       '15424', '4533', '5756', '24424', '2426', '7730', '2987', '10477',\n",
       "       '13773', '14388', '14522', '32472', '40829', '17101', '7497',\n",
       "       '2400', '7306', '17500', '4463', '2200', '6448', '4863', '900+',\n",
       "       '13570', '4927', '32739', '1604', '2499', '13785', '16317', '339',\n",
       "       '1874', '10790', '4494', '4836', '4176', '4352', '30819', '6314',\n",
       "       '26851', '3251', '616', '49589', '50116', '3224', '52405',\n",
       "       '~50,000', '7773', '3785', '3822', '5000', '20712', '21000',\n",
       "       '21048', '7787', '17231', '18502', '6158', '11804', '36041',\n",
       "       '38912', '29390', '1207', '3090', '3249', '24370', '2654', '2815',\n",
       "       '15705', '14575', '1144', '10235', '1015', '3657', '1033', '1062',\n",
       "       '9840', '32762', '14806', '10623', '13438', '18900', '23420',\n",
       "       '3192', '2480', '12125', '4800', '30930', '7848', '5560', '12130',\n",
       "       '25063', '25277', '16567', '12270', '2566', '7881', '1972', '1779',\n",
       "       '2715', '4179', '3200', '971', '7538', '10133', '6214', '14196',\n",
       "       '35271', '11034', '17055', '14153', '998', '4238', '9251', '23500',\n",
       "       '4666', '17502', '11722', '47430', '4600', '9000', '7110', '3120',\n",
       "       '20655', '2766', '29290', '3740', '8394', '600', '3927', '1836',\n",
       "       '7313', '4061', '2073', '2183', '1315', '15484', '3345', '735',\n",
       "       '15872', '11308', '15889', '7885', '1066', '1331', '3574', '6840',\n",
       "       '1737', '11604', '6058', '1917', '5079', '23859', '23930', '2110',\n",
       "       '2640', '14000', '2942', '3483', '4854', '5930', '23175', '23855',\n",
       "       '2355', '9625', '4500', '1000', '779', '1760', '1885', '37641',\n",
       "       '3739', '17000', 'http://www.brocku.ca/athletics/quickfacts.php',\n",
       "       '20762', '21080', '757', '1116', '2000', '9748', '14177', '2242',\n",
       "       '2488', '19000', '2305', '16548', '16809', '38140', '13863', '4900',\n",
       "       '10363', '21016', '27008', '18,234 -', '26,101 -', '36000', '4200',\n",
       "       '21091', '110436', '18396', '18448', '9558', '7.07184E7',\n",
       "       '7.71264E7', '10000', '1650', '5097', '5471', '5008', '7542',\n",
       "       '8800', '1791', '23122', '30328', '6080', '2776', '14235', '2636',\n",
       "       '2744', '4250', '8094', '13600', '34767', '3709', '22125', '24875',\n",
       "       '2225', '9203', '27676', '8955', '25215', '29549', '30000', '11659',\n",
       "       '17', '3168', '17849', '22280', '19020', '800', '2725', '32275',\n",
       "       '33825', '4337', '3974', '12114', '23135', '3000', '3485', '29703',\n",
       "       '8831', '30303', '11476', '11842', '602', '8649', '1703', '3500',\n",
       "       '5201', '3719', '42099', '42595', '5760', '6082', '2175', '2231',\n",
       "       '22479', '4183', '47122', '5790', '4014', '28602', '42513', '1118',\n",
       "       '15405', '18442', '5033', '4600800.0', '10534', '28525', '55014',\n",
       "       '7751', '7755', '58698', '7567', '11201', '2100', '24531', '1500',\n",
       "       '1,500+', '46422', '46423', '754', '17290', '39165', '9300',\n",
       "       '41674', '42716', '42761', '42907', '49020', '12445', '19333',\n",
       "       '22405', '24662', '18572', '11593', '3209', '23162', '23590',\n",
       "       '8742', '5552', '5,552 total', '1415', '16822', '7942', '6957',\n",
       "       '11733', '28311', '5200', '13995', '14070', '30823', '31766',\n",
       "       '10688', '12557', '21225', '25313', '12024', '12683', '2124',\n",
       "       '5500', '5514', '5525', '12725', '9517', '35274', '37132', '450',\n",
       "       '23315', '24735', '10502', '20407', '8034', '1210', '46302',\n",
       "       '13959', '24849', '13490', '15265', '8606', '29462', '7615',\n",
       "       '24170', '8603', '8645', '9135', '8878', '9370', '29616', '22707',\n",
       "       '2334', '28018', '33585', '21210', '3439', '19700', '25890',\n",
       "       '26073', '9555', '13351', '13676', '4278', '35200', '14560', '7943',\n",
       "       '8005', '12714', '12002', '23761', '24977', '12400', '82', '3432',\n",
       "       '24594', '2648', '19890', '10820', '6101', '2565', '29894', '29952',\n",
       "       '5260', '22275', '16000', '20222', '21011', '37426', '19391',\n",
       "       '25700', '26960', '5379', '24593', '14765', '2900',\n",
       "       'faculty to student ratio: 12:1', '9150', '1600', '35204', '4000',\n",
       "       '47966', '1683', '~1,610', '363', '44', '32304', '6945', '51611',\n",
       "       '51721', '51853', '30540', '32500', '13183', '9940', '18475',\n",
       "       '38934', '57409', '24225', '22805', '30461', '44595', '49000',\n",
       "       '4991', '9339', '23085', '23336', '17455', '10383', '12000', '811',\n",
       "       '3246', '21827', '2282', '11646', '15642', '8810', '23600', '24192',\n",
       "       '8298', '23470', '13089', '19415', '19740', '41215', '2836', '3700',\n",
       "       '3770', '3829', '3721', '4525', '5365', '3050', '2345', '7700',\n",
       "       '7257', '2263', '19780', '2589', '2542', '29898', '2120', '2300',\n",
       "       '3600', '4384', '1748', '7928', '7005', '7277', '7740', '2270',\n",
       "       '1130.0', '1841.0', '6919', '47878', '34000', '9106', '8278',\n",
       "       '3378', '7131', '19966', '6964', '5809', '19664', '19993', '3420',\n",
       "       '2658', '2609', '1938', '2442', '42606', '2435', '10074', '20212',\n",
       "       '20,000+', '1460', '6276', '1308', '2719', '40000', '11065', '2660',\n",
       "       '3633', '80022011', '20487', '111329', '852', '131403', '24595',\n",
       "       '28', '1371', '3800', '23883', '3137', '33788', '28394', '30377',\n",
       "       '5.29092E7', '5.49E7', '14706', '720', '2674', '2886', '23103',\n",
       "       '8000', '10482', '6', '1890', '1872', '34255', '53337', '27523',\n",
       "       '18498', '11922', '6398', '15189', '70440', '72254', '23588',\n",
       "       '24378', '8985', '3461', '2', '27209', '22974', '11581', '47800',\n",
       "       '47954', '14769', '15195', '1771', '16355',\n",
       "       'One MEELLLLIOONNN DOLL HAIRS', '19500', '17499', '10894', '33500',\n",
       "       '15319', '3480', '28094', '8846', '6726', '27606', '20939', '20330',\n",
       "       '21535', '6647', '1454', '20643', '21329', '13925', '4496', '17261',\n",
       "       '17333', '21559', '630', '795', '6290', '8524', '33977', '44817',\n",
       "       '95833', '630 Dickinson School of Law', '800 College of Medicine',\n",
       "       '8,524 World Campus', '44,817 University Park', '795 Great Valley',\n",
       "       '95,833 Total', '33,977 Commonwealth Campuses',\n",
       "       '6,290 PA College of Tech', '25045', '29887', '31040', '27816',\n",
       "       '87274', '17999', '17950', '4197033329', '41710', '15649', '11956',\n",
       "       '28766', '28823', '2724', '45963', '978', '11180', '12312', '19721',\n",
       "       '5233', '29689', '4072', '11867', '38010', '18630', '27195',\n",
       "       '15657', '14820', '13381', '13893', '3245', '15064', '15473',\n",
       "       '7521', '5913', '5998', '33602', '31899', '39271', '39922', '33490',\n",
       "       '24125', '28994', '28290', '1115', '17351', '2284', '17533',\n",
       "       '18971', '39697', '39726', '27269', '19379', '13410', '2203',\n",
       "       '19728', '3005', '3045', '3540', '2459', '18004', '45126', '45954',\n",
       "       '2559', '15446', '32611', '56868', '28203', '20956', '3537', '6654',\n",
       "       '285392012', '15920', '34870', '8289', '25469', '10549', '18762',\n",
       "       '14713', '28091', '55115', '32653', '5152', '380', '14754', '7764',\n",
       "       '15951', '16040', '15536', '9799', '9352', '28457'], dtype=object)"
      ]
     },
     "execution_count": 619,
     "metadata": {},
     "output_type": "execute_result"
    }
   ],
   "source": [
    "df.numStudents.unique()"
   ]
  },
  {
   "cell_type": "code",
   "execution_count": 620,
   "metadata": {
    "ExecuteTime": {
     "end_time": "2017-11-19T21:19:14.428178",
     "start_time": "2017-11-19T21:19:14.424281"
    },
    "collapsed": false
   },
   "outputs": [
    {
     "data": {
      "text/plain": [
       "52909200.0"
      ]
     },
     "execution_count": 620,
     "metadata": {},
     "output_type": "execute_result"
    }
   ],
   "source": [
    "float('5.29092E7')"
   ]
  },
  {
   "cell_type": "code",
   "execution_count": 621,
   "metadata": {
    "ExecuteTime": {
     "end_time": "2017-11-19T21:19:14.503910",
     "start_time": "2017-11-19T21:19:14.429763"
    },
    "collapsed": false
   },
   "outputs": [],
   "source": [
    "df.numStudents = [str(i).replace('+', '').replace('~', '') for i in df.numStudents]\n",
    "df.numStudents = [str(i).replace(',', '').replace('-', '').strip() for i in df.numStudents]\n",
    "df.numStudents = [i.split(' ')[0] for i in df.numStudents]"
   ]
  },
  {
   "cell_type": "code",
   "execution_count": 622,
   "metadata": {
    "ExecuteTime": {
     "end_time": "2017-11-19T21:19:14.509455",
     "start_time": "2017-11-19T21:19:14.505993"
    },
    "collapsed": true
   },
   "outputs": [],
   "source": [
    "# https://stackoverflow.com/questions/4138202/using-isdigit-for-floats\n",
    "def isDigit(x):\n",
    "    try:\n",
    "        float(x)\n",
    "        return True\n",
    "    except ValueError:\n",
    "        return False"
   ]
  },
  {
   "cell_type": "code",
   "execution_count": 623,
   "metadata": {
    "ExecuteTime": {
     "end_time": "2017-11-19T21:19:14.514409",
     "start_time": "2017-11-19T21:19:14.511104"
    },
    "collapsed": false
   },
   "outputs": [
    {
     "data": {
      "text/plain": [
       "True"
      ]
     },
     "execution_count": 623,
     "metadata": {},
     "output_type": "execute_result"
    }
   ],
   "source": [
    "isDigit('1130.0')"
   ]
  },
  {
   "cell_type": "code",
   "execution_count": 624,
   "metadata": {
    "ExecuteTime": {
     "end_time": "2017-11-19T21:19:14.519195",
     "start_time": "2017-11-19T21:19:14.515768"
    },
    "collapsed": false
   },
   "outputs": [
    {
     "data": {
      "text/plain": [
       "False"
      ]
     },
     "execution_count": 624,
     "metadata": {},
     "output_type": "execute_result"
    }
   ],
   "source": [
    "str.isdigit('1130.0')"
   ]
  },
  {
   "cell_type": "code",
   "execution_count": 625,
   "metadata": {
    "ExecuteTime": {
     "end_time": "2017-11-19T21:19:14.541209",
     "start_time": "2017-11-19T21:19:14.521410"
    },
    "collapsed": false
   },
   "outputs": [],
   "source": [
    "df['numStudents'] = df['numStudents'].apply(lambda x: np.float(x) \n",
    "                            if isDigit(x)\n",
    "                            else np.nan)"
   ]
  },
  {
   "cell_type": "code",
   "execution_count": 626,
   "metadata": {
    "ExecuteTime": {
     "end_time": "2017-11-19T21:19:14.555612",
     "start_time": "2017-11-19T21:19:14.542811"
    },
    "collapsed": false
   },
   "outputs": [],
   "source": [
    "odds = {}\n",
    "for i in df['numStudents']:\n",
    "    if not isDigit(i):\n",
    "        try:\n",
    "            odds[i] += 1\n",
    "        except:\n",
    "            odds[i] = 1"
   ]
  },
  {
   "cell_type": "code",
   "execution_count": 627,
   "metadata": {
    "ExecuteTime": {
     "end_time": "2017-11-19T21:19:14.561032",
     "start_time": "2017-11-19T21:19:14.557438"
    },
    "collapsed": false
   },
   "outputs": [
    {
     "data": {
      "text/plain": [
       "15534"
      ]
     },
     "execution_count": 627,
     "metadata": {},
     "output_type": "execute_result"
    }
   ],
   "source": [
    "len(df)"
   ]
  },
  {
   "cell_type": "code",
   "execution_count": 628,
   "metadata": {
    "ExecuteTime": {
     "end_time": "2017-11-19T21:19:14.565626",
     "start_time": "2017-11-19T21:19:14.562376"
    },
    "collapsed": false
   },
   "outputs": [
    {
     "data": {
      "text/plain": [
       "{}"
      ]
     },
     "execution_count": 628,
     "metadata": {},
     "output_type": "execute_result"
    }
   ],
   "source": [
    "odds"
   ]
  },
  {
   "cell_type": "code",
   "execution_count": 629,
   "metadata": {
    "ExecuteTime": {
     "end_time": "2017-11-19T21:19:14.570984",
     "start_time": "2017-11-19T21:19:14.567112"
    },
    "collapsed": false
   },
   "outputs": [
    {
     "data": {
      "text/plain": [
       "70000.0"
      ]
     },
     "execution_count": 629,
     "metadata": {},
     "output_type": "execute_result"
    }
   ],
   "source": [
    "df.numStudents.iloc[0]"
   ]
  },
  {
   "cell_type": "code",
   "execution_count": 630,
   "metadata": {
    "ExecuteTime": {
     "end_time": "2017-11-19T21:19:14.577314",
     "start_time": "2017-11-19T21:19:14.572909"
    },
    "collapsed": false
   },
   "outputs": [
    {
     "data": {
      "text/plain": [
       "array([ 70000.,  27393.,  21160.,    894.,  15553.,  62801.,  65234.,\n",
       "           nan,  15424.,   4533.])"
      ]
     },
     "execution_count": 630,
     "metadata": {},
     "output_type": "execute_result"
    }
   ],
   "source": [
    "df.numStudents.unique()[:10]"
   ]
  },
  {
   "cell_type": "code",
   "execution_count": 631,
   "metadata": {
    "ExecuteTime": {
     "end_time": "2017-11-19T21:19:14.583055",
     "start_time": "2017-11-19T21:19:14.578893"
    },
    "collapsed": false
   },
   "outputs": [
    {
     "data": {
      "text/plain": [
       "(4197033329.0, 2.0)"
      ]
     },
     "execution_count": 631,
     "metadata": {},
     "output_type": "execute_result"
    }
   ],
   "source": [
    "df.numStudents.max(), df.numStudents.min()"
   ]
  },
  {
   "cell_type": "code",
   "execution_count": 632,
   "metadata": {
    "ExecuteTime": {
     "end_time": "2017-11-19T21:19:14.586679",
     "start_time": "2017-11-19T21:19:14.584405"
    },
    "collapsed": false
   },
   "outputs": [],
   "source": [
    "# df.numStudents.astype('float')"
   ]
  },
  {
   "cell_type": "code",
   "execution_count": 633,
   "metadata": {
    "ExecuteTime": {
     "end_time": "2017-11-19T21:19:14.591292",
     "start_time": "2017-11-19T21:19:14.589079"
    },
    "collapsed": false
   },
   "outputs": [],
   "source": [
    "# pd.to_numeric(df.numStudents)#, errors='ignore')"
   ]
  },
  {
   "cell_type": "code",
   "execution_count": 634,
   "metadata": {
    "ExecuteTime": {
     "end_time": "2017-11-19T21:19:14.606636",
     "start_time": "2017-11-19T21:19:14.592889"
    },
    "collapsed": false
   },
   "outputs": [
    {
     "data": {
      "text/html": [
       "<div>\n",
       "<table border=\"1\" class=\"dataframe\">\n",
       "  <thead>\n",
       "    <tr style=\"text-align: right;\">\n",
       "      <th></th>\n",
       "      <th>numStudents</th>\n",
       "    </tr>\n",
       "  </thead>\n",
       "  <tbody>\n",
       "    <tr>\n",
       "      <th>count</th>\n",
       "      <td>1.380000e+04</td>\n",
       "    </tr>\n",
       "    <tr>\n",
       "      <th>mean</th>\n",
       "      <td>3.934969e+05</td>\n",
       "    </tr>\n",
       "    <tr>\n",
       "      <th>std</th>\n",
       "      <td>3.585477e+07</td>\n",
       "    </tr>\n",
       "    <tr>\n",
       "      <th>min</th>\n",
       "      <td>2.000000e+00</td>\n",
       "    </tr>\n",
       "    <tr>\n",
       "      <th>25%</th>\n",
       "      <td>1.065000e+03</td>\n",
       "    </tr>\n",
       "    <tr>\n",
       "      <th>50%</th>\n",
       "      <td>1.068800e+04</td>\n",
       "    </tr>\n",
       "    <tr>\n",
       "      <th>75%</th>\n",
       "      <td>3.397700e+04</td>\n",
       "    </tr>\n",
       "    <tr>\n",
       "      <th>max</th>\n",
       "      <td>4.197033e+09</td>\n",
       "    </tr>\n",
       "  </tbody>\n",
       "</table>\n",
       "</div>"
      ],
      "text/plain": [
       "        numStudents\n",
       "count  1.380000e+04\n",
       "mean   3.934969e+05\n",
       "std    3.585477e+07\n",
       "min    2.000000e+00\n",
       "25%    1.065000e+03\n",
       "50%    1.068800e+04\n",
       "75%    3.397700e+04\n",
       "max    4.197033e+09"
      ]
     },
     "execution_count": 634,
     "metadata": {},
     "output_type": "execute_result"
    }
   ],
   "source": [
    "df.describe()"
   ]
  },
  {
   "cell_type": "code",
   "execution_count": 635,
   "metadata": {
    "ExecuteTime": {
     "end_time": "2017-11-19T21:19:16.092250",
     "start_time": "2017-11-19T21:19:14.608072"
    },
    "collapsed": false
   },
   "outputs": [
    {
     "data": {
      "image/png": "[encoded data removed]",
      "text/plain": [
       "<matplotlib.figure.Figure at 0x11beb1a50>"
      ]
     },
     "metadata": {},
     "output_type": "display_data"
    }
   ],
   "source": [
    "plt.hist(df.numStudents.dropna(), bins = 200, color='blue')\n",
    "plt.yscale('log')\n",
    "plt.xscale('log')\n",
    "plt.show()"
   ]
  },
  {
   "cell_type": "markdown",
   "metadata": {},
   "source": [
    "# Clean up values for the endowment\n",
    "\n",
    "First remove the numeric facet for numStudents and create a new numeric facet for endowment. Select only the non-numeric values, as was done for the number of students.\n",
    "Already we see issues like \"US$1.3 billion\" and \"US $186 million\""
   ]
  },
  {
   "cell_type": "code",
   "execution_count": 636,
   "metadata": {
    "ExecuteTime": {
     "end_time": "2017-11-19T21:19:16.103465",
     "start_time": "2017-11-19T21:19:16.094099"
    },
    "collapsed": false
   },
   "outputs": [
    {
     "data": {
      "text/plain": [
       "0                       15\n",
       "2                      121\n",
       "3                  4700000\n",
       "4                 16586100\n",
       "5                 16586100\n",
       "6                 40200750\n",
       "7                 40200750\n",
       "8                 40200750\n",
       "9                 40200750\n",
       "10                40200750\n",
       "11                40200750\n",
       "12                40200750\n",
       "13                40200750\n",
       "14                40200750\n",
       "15                40200750\n",
       "16                40200750\n",
       "17                40200750\n",
       "18               562000000\n",
       "19               562000000\n",
       "22                     NaN\n",
       "23                     NaN\n",
       "24                     NaN\n",
       "25                     NaN\n",
       "26                     NaN\n",
       "27                   1.3E7\n",
       "28                   1.0E7\n",
       "29                   3.5E8\n",
       "30                   4.5E8\n",
       "31                     0.0\n",
       "32                     0.0\n",
       "               ...        \n",
       "74996        $2,17 billion\n",
       "74997        $2,17 billion\n",
       "74998        $2,17 billion\n",
       "74999        $2,17 billion\n",
       "75000        $2,17 billion\n",
       "75001        $2,17 billion\n",
       "75002        $2,17 billion\n",
       "75003        $2,17 billion\n",
       "75004    US $401.2 million\n",
       "75006    US $213.2 million\n",
       "75007      US $381 million\n",
       "75008     US $64.5 million\n",
       "75009     US $64.5 million\n",
       "75010     US $64.5 million\n",
       "75011    US $716.8 million\n",
       "75012    US $716.8 million\n",
       "75013    US $716.8 million\n",
       "75014    US $716.8 million\n",
       "75015    US $716.8 million\n",
       "75016    US $716.8 million\n",
       "75017    US $716.8 million\n",
       "75018    US $716.8 million\n",
       "75019    US $716.8 million\n",
       "75020    US $716.8 million\n",
       "75021    US $716.8 million\n",
       "75022    US $716.8 million\n",
       "75023    US $716.8 million\n",
       "75024    US $716.8 million\n",
       "75025    US $716.8 million\n",
       "75026    US $716.8 million\n",
       "Name: endowment, dtype: object"
      ]
     },
     "execution_count": 636,
     "metadata": {},
     "output_type": "execute_result"
    }
   ],
   "source": [
    "df['endowment']"
   ]
  },
  {
   "cell_type": "code",
   "execution_count": 637,
   "metadata": {
    "ExecuteTime": {
     "end_time": "2017-11-19T21:19:16.109648",
     "start_time": "2017-11-19T21:19:16.105482"
    },
    "collapsed": false
   },
   "outputs": [
    {
     "data": {
      "text/plain": [
       "0.0"
      ]
     },
     "execution_count": 637,
     "metadata": {},
     "output_type": "execute_result"
    }
   ],
   "source": [
    "np.sum(odds.values())"
   ]
  },
  {
   "cell_type": "code",
   "execution_count": 638,
   "metadata": {
    "ExecuteTime": {
     "end_time": "2017-11-19T21:19:16.131401",
     "start_time": "2017-11-19T21:19:16.111137"
    },
    "collapsed": false
   },
   "outputs": [
    {
     "data": {
      "text/plain": [
       "[('US$226 million', 1),\n",
       " ('US $6.44 billion', 16),\n",
       " ('1,5 billion \\xe2\\x82\\xac', 1)]"
      ]
     },
     "execution_count": 638,
     "metadata": {},
     "output_type": "execute_result"
    }
   ],
   "source": [
    "odds = {}\n",
    "for i in df['endowment']:\n",
    "    if not isDigit(i):\n",
    "        try:\n",
    "            odds[i] += 1\n",
    "        except:\n",
    "            odds[i] = 1\n",
    "\n",
    "odds.items()[:3]"
   ]
  },
  {
   "cell_type": "code",
   "execution_count": 639,
   "metadata": {
    "ExecuteTime": {
     "end_time": "2017-11-19T21:19:16.137035",
     "start_time": "2017-11-19T21:19:16.133112"
    },
    "collapsed": false
   },
   "outputs": [
    {
     "data": {
      "text/plain": [
       "1000000.0"
      ]
     },
     "execution_count": 639,
     "metadata": {},
     "output_type": "execute_result"
    }
   ],
   "source": [
    "np.float('1E6')"
   ]
  },
  {
   "cell_type": "code",
   "execution_count": 640,
   "metadata": {
    "ExecuteTime": {
     "end_time": "2017-11-19T21:19:16.202235",
     "start_time": "2017-11-19T21:19:16.139235"
    },
    "collapsed": false
   },
   "outputs": [],
   "source": [
    "df.endowment = [str(i).replace('US $', '').replace('US$', '') for i in df.endowment]\n",
    "df.endowment = [str(i).replace('USD$', '').replace('USD $', '') for i in df.endowment]\n",
    "df.endowment = [str(i).replace('U.S. $', '').replace(',', '').strip() for i in df.endowment]\n",
    "\n",
    "endowment = []\n",
    "for i in df.endowment:\n",
    "    if i.__contains__('$'):\n",
    "        endowment.append(str(i).split('$')[1])\n",
    "    else:\n",
    "        endowment.append(i)\n",
    "df.endowment = endowment"
   ]
  },
  {
   "cell_type": "code",
   "execution_count": 641,
   "metadata": {
    "ExecuteTime": {
     "end_time": "2017-11-19T21:19:16.303032",
     "start_time": "2017-11-19T21:19:16.204143"
    },
    "collapsed": false
   },
   "outputs": [],
   "source": [
    "df.endowment = [str(i).replace(' million', 'E6').replace(' billion', 'E9').strip() for i in df.endowment]\n",
    "df.endowment = [str(i).replace('million', 'E6').replace('billion', 'E9').strip() for i in df.endowment]\n",
    "df.endowment = [str(i).replace(' Million', 'E6').replace(' Billion', 'E9').strip() for i in df.endowment]\n",
    "df.endowment = [str(i).split(' ')[0] for i in df.endowment]\n",
    "df.endowment = [str(i).replace('M', 'E6').strip() for i in df.endowment]\n",
    "df.endowment = [str(i).replace(';', '').replace('+', '').strip() for i in df.endowment]\n",
    "# df.endowment = [str(i).split('xbf')[1] for i in df.endowment]\n",
    "# df.endowment = [str(i).split('xb')[1] for i in df.endowment]\n",
    "# df.endowment = [str(i).split('xa')[1] for i in df.endowment]\n"
   ]
  },
  {
   "cell_type": "markdown",
   "metadata": {},
   "source": [
    "After most of this has been cleaned up, select the non-numeric values, and delete them, just as was done for the numStudents."
   ]
  },
  {
   "cell_type": "code",
   "execution_count": 642,
   "metadata": {
    "ExecuteTime": {
     "end_time": "2017-11-19T21:19:16.326391",
     "start_time": "2017-11-19T21:19:16.305337"
    },
    "collapsed": true
   },
   "outputs": [],
   "source": [
    "df['endowment'] = df['endowment'].apply(lambda x: np.float(x) \n",
    "                            if isDigit(x)\n",
    "                            else np.nan)"
   ]
  },
  {
   "cell_type": "code",
   "execution_count": 643,
   "metadata": {
    "ExecuteTime": {
     "end_time": "2017-11-19T21:19:16.347641",
     "start_time": "2017-11-19T21:19:16.328064"
    },
    "collapsed": false
   },
   "outputs": [
    {
     "data": {
      "text/html": [
       "<div>\n",
       "<table border=\"1\" class=\"dataframe\">\n",
       "  <thead>\n",
       "    <tr style=\"text-align: right;\">\n",
       "      <th></th>\n",
       "      <th>endowment</th>\n",
       "      <th>numStudents</th>\n",
       "    </tr>\n",
       "  </thead>\n",
       "  <tbody>\n",
       "    <tr>\n",
       "      <th>count</th>\n",
       "      <td>1.490400e+04</td>\n",
       "      <td>1.380000e+04</td>\n",
       "    </tr>\n",
       "    <tr>\n",
       "      <th>mean</th>\n",
       "      <td>2.149103e+09</td>\n",
       "      <td>3.934969e+05</td>\n",
       "    </tr>\n",
       "    <tr>\n",
       "      <th>std</th>\n",
       "      <td>1.927573e+10</td>\n",
       "      <td>3.585477e+07</td>\n",
       "    </tr>\n",
       "    <tr>\n",
       "      <th>min</th>\n",
       "      <td>0.000000e+00</td>\n",
       "      <td>2.000000e+00</td>\n",
       "    </tr>\n",
       "    <tr>\n",
       "      <th>25%</th>\n",
       "      <td>2.430000e+08</td>\n",
       "      <td>1.065000e+03</td>\n",
       "    </tr>\n",
       "    <tr>\n",
       "      <th>50%</th>\n",
       "      <td>1.546000e+09</td>\n",
       "      <td>1.068800e+04</td>\n",
       "    </tr>\n",
       "    <tr>\n",
       "      <th>75%</th>\n",
       "      <td>1.708000e+09</td>\n",
       "      <td>3.397700e+04</td>\n",
       "    </tr>\n",
       "    <tr>\n",
       "      <th>max</th>\n",
       "      <td>1.545840e+12</td>\n",
       "      <td>4.197033e+09</td>\n",
       "    </tr>\n",
       "  </tbody>\n",
       "</table>\n",
       "</div>"
      ],
      "text/plain": [
       "          endowment   numStudents\n",
       "count  1.490400e+04  1.380000e+04\n",
       "mean   2.149103e+09  3.934969e+05\n",
       "std    1.927573e+10  3.585477e+07\n",
       "min    0.000000e+00  2.000000e+00\n",
       "25%    2.430000e+08  1.065000e+03\n",
       "50%    1.546000e+09  1.068800e+04\n",
       "75%    1.708000e+09  3.397700e+04\n",
       "max    1.545840e+12  4.197033e+09"
      ]
     },
     "execution_count": 643,
     "metadata": {},
     "output_type": "execute_result"
    }
   ],
   "source": [
    "df.describe()"
   ]
  },
  {
   "cell_type": "markdown",
   "metadata": {},
   "source": [
    "- 巴西雷亚尔的符号 R\\$\n",
    "- CANADA DOLLARS  C\\$\n",
    "- 澳元的货币符号 A\\$"
   ]
  },
  {
   "cell_type": "markdown",
   "metadata": {},
   "source": [
    "Both \"million\" and \"Million\" are in the values, so it's useful to convert all the values to lowercase instead of cleaning this up twice.\n"
   ]
  },
  {
   "cell_type": "code",
   "execution_count": 644,
   "metadata": {
    "ExecuteTime": {
     "end_time": "2017-11-19T21:19:16.373522",
     "start_time": "2017-11-19T21:19:16.349218"
    },
    "collapsed": false
   },
   "outputs": [
    {
     "data": {
      "text/html": [
       "<div>\n",
       "<table border=\"1\" class=\"dataframe\">\n",
       "  <thead>\n",
       "    <tr style=\"text-align: right;\">\n",
       "      <th></th>\n",
       "      <th>university</th>\n",
       "      <th>endowment</th>\n",
       "      <th>numFaculty</th>\n",
       "      <th>numDoctoral</th>\n",
       "      <th>country</th>\n",
       "      <th>numStaff</th>\n",
       "      <th>established</th>\n",
       "      <th>numPostgrad</th>\n",
       "      <th>numUndergrad</th>\n",
       "      <th>numStudents</th>\n",
       "    </tr>\n",
       "  </thead>\n",
       "  <tbody>\n",
       "    <tr>\n",
       "      <th>0</th>\n",
       "      <td>Paris Universitas</td>\n",
       "      <td>15.0</td>\n",
       "      <td>5500</td>\n",
       "      <td>8000</td>\n",
       "      <td>France</td>\n",
       "      <td>NaN</td>\n",
       "      <td>2005</td>\n",
       "      <td>NaN</td>\n",
       "      <td>25000</td>\n",
       "      <td>70000.0</td>\n",
       "    </tr>\n",
       "    <tr>\n",
       "      <th>2</th>\n",
       "      <td>Lumi%C3%A8re University Lyon 2</td>\n",
       "      <td>121.0</td>\n",
       "      <td>NaN</td>\n",
       "      <td>1355</td>\n",
       "      <td>France</td>\n",
       "      <td>NaN</td>\n",
       "      <td>1835</td>\n",
       "      <td>7046</td>\n",
       "      <td>14851</td>\n",
       "      <td>27393.0</td>\n",
       "    </tr>\n",
       "    <tr>\n",
       "      <th>3</th>\n",
       "      <td>Confederation College</td>\n",
       "      <td>4700000.0</td>\n",
       "      <td>NaN</td>\n",
       "      <td>NaN</td>\n",
       "      <td>Canada</td>\n",
       "      <td>NaN</td>\n",
       "      <td>1967</td>\n",
       "      <td>not available</td>\n",
       "      <td>pre-university students; technical</td>\n",
       "      <td>21160.0</td>\n",
       "    </tr>\n",
       "    <tr>\n",
       "      <th>4</th>\n",
       "      <td>Rocky Mountain College</td>\n",
       "      <td>16586100.0</td>\n",
       "      <td>NaN</td>\n",
       "      <td>NaN</td>\n",
       "      <td>USA</td>\n",
       "      <td>NaN</td>\n",
       "      <td>1878</td>\n",
       "      <td>66</td>\n",
       "      <td>878</td>\n",
       "      <td>894.0</td>\n",
       "    </tr>\n",
       "    <tr>\n",
       "      <th>5</th>\n",
       "      <td>Rocky Mountain College</td>\n",
       "      <td>16586100.0</td>\n",
       "      <td>NaN</td>\n",
       "      <td>NaN</td>\n",
       "      <td>USA</td>\n",
       "      <td>NaN</td>\n",
       "      <td>1878</td>\n",
       "      <td>66</td>\n",
       "      <td>878</td>\n",
       "      <td>894.0</td>\n",
       "    </tr>\n",
       "  </tbody>\n",
       "</table>\n",
       "</div>"
      ],
      "text/plain": [
       "                       university   endowment numFaculty numDoctoral country  \\\n",
       "0               Paris Universitas        15.0       5500        8000  France   \n",
       "2  Lumi%C3%A8re University Lyon 2       121.0        NaN        1355  France   \n",
       "3           Confederation College   4700000.0        NaN         NaN  Canada   \n",
       "4          Rocky Mountain College  16586100.0        NaN         NaN     USA   \n",
       "5          Rocky Mountain College  16586100.0        NaN         NaN     USA   \n",
       "\n",
       "  numStaff established    numPostgrad                        numUndergrad  \\\n",
       "0      NaN        2005            NaN                               25000   \n",
       "2      NaN        1835           7046                               14851   \n",
       "3      NaN        1967  not available  pre-university students; technical   \n",
       "4      NaN        1878             66                                 878   \n",
       "5      NaN        1878             66                                 878   \n",
       "\n",
       "   numStudents  \n",
       "0      70000.0  \n",
       "2      27393.0  \n",
       "3      21160.0  \n",
       "4        894.0  \n",
       "5        894.0  "
      ]
     },
     "execution_count": 644,
     "metadata": {},
     "output_type": "execute_result"
    }
   ],
   "source": [
    "df.head()"
   ]
  },
  {
   "cell_type": "markdown",
   "metadata": {},
   "source": [
    "# Others\n",
    "\n",
    "numFaculty, numDoctoral, numStaff, numPostgrad, numUndergrad, established\n"
   ]
  },
  {
   "cell_type": "markdown",
   "metadata": {},
   "source": [
    "## numFaculty"
   ]
  },
  {
   "cell_type": "code",
   "execution_count": 645,
   "metadata": {
    "ExecuteTime": {
     "end_time": "2017-11-19T21:19:16.416626",
     "start_time": "2017-11-19T21:19:16.375699"
    },
    "collapsed": true
   },
   "outputs": [],
   "source": [
    "df.numFaculty = [str(i).replace('Total: ', '').replace(',', '') for i in df.numFaculty]\n",
    "df.numFaculty = [str(i).replace('>', '').replace('~', '') for i in df.numFaculty]\n",
    "df.numFaculty = [str(i).split(' ')[0] for i in df.numFaculty]\n"
   ]
  },
  {
   "cell_type": "code",
   "execution_count": 646,
   "metadata": {
    "ExecuteTime": {
     "end_time": "2017-11-19T21:19:16.442528",
     "start_time": "2017-11-19T21:19:16.418486"
    },
    "collapsed": true
   },
   "outputs": [],
   "source": [
    "df['numFaculty'] = df['numFaculty'].apply(lambda x: np.float(x) \n",
    "                            if isDigit(x)\n",
    "                            else np.nan)"
   ]
  },
  {
   "cell_type": "code",
   "execution_count": 647,
   "metadata": {
    "ExecuteTime": {
     "end_time": "2017-11-19T21:19:16.461169",
     "start_time": "2017-11-19T21:19:16.444206"
    },
    "collapsed": false
   },
   "outputs": [
    {
     "data": {
      "text/plain": [
       "[]"
      ]
     },
     "execution_count": 647,
     "metadata": {},
     "output_type": "execute_result"
    }
   ],
   "source": [
    "odds = {}\n",
    "for i in df['numFaculty']:\n",
    "    if not isDigit(i):\n",
    "        try:\n",
    "            odds[i] += 1\n",
    "        except:\n",
    "            odds[i] = 1\n",
    "\n",
    "odds.items()"
   ]
  },
  {
   "cell_type": "markdown",
   "metadata": {},
   "source": [
    "## numDoctoral"
   ]
  },
  {
   "cell_type": "code",
   "execution_count": 648,
   "metadata": {
    "ExecuteTime": {
     "end_time": "2017-11-19T21:19:16.479157",
     "start_time": "2017-11-19T21:19:16.462918"
    },
    "collapsed": false
   },
   "outputs": [
    {
     "data": {
      "text/plain": [
       "[('available', 1),\n",
       " ('N\\\\A', 27),\n",
       " ('not available', 40),\n",
       " ('N.A', 16),\n",
       " ('~25', 4)]"
      ]
     },
     "execution_count": 648,
     "metadata": {},
     "output_type": "execute_result"
    }
   ],
   "source": [
    "odds = {}\n",
    "for i in df['numDoctoral']:\n",
    "    if not isDigit(i):\n",
    "        try:\n",
    "            odds[i] += 1\n",
    "        except:\n",
    "            odds[i] = 1\n",
    "\n",
    "odds.items()"
   ]
  },
  {
   "cell_type": "code",
   "execution_count": 649,
   "metadata": {
    "ExecuteTime": {
     "end_time": "2017-11-19T21:19:16.504971",
     "start_time": "2017-11-19T21:19:16.480904"
    },
    "collapsed": true
   },
   "outputs": [],
   "source": [
    "df.numDoctoral = [str(i).replace('~', '') for i in df.numFaculty]"
   ]
  },
  {
   "cell_type": "code",
   "execution_count": 650,
   "metadata": {
    "ExecuteTime": {
     "end_time": "2017-11-19T21:19:16.526280",
     "start_time": "2017-11-19T21:19:16.507090"
    },
    "collapsed": true
   },
   "outputs": [],
   "source": [
    "df['numDoctoral'] = df['numDoctoral'].apply(lambda x: np.float(x) \n",
    "                            if isDigit(x)\n",
    "                            else np.nan)"
   ]
  },
  {
   "cell_type": "markdown",
   "metadata": {},
   "source": [
    "## numStaff"
   ]
  },
  {
   "cell_type": "code",
   "execution_count": 651,
   "metadata": {
    "ExecuteTime": {
     "end_time": "2017-11-19T21:19:16.548670",
     "start_time": "2017-11-19T21:19:16.527828"
    },
    "collapsed": false
   },
   "outputs": [
    {
     "data": {
      "text/plain": [
       "[('incl. 1,403 academics and 150 researchers', 2),\n",
       " ('Total: 873', 48),\n",
       " ('Approximately 7,170', 1),\n",
       " ('approximately 30', 1),\n",
       " ('167 full-time academic faculty,  \\n596 non-academic staff', 4),\n",
       " ('Around 120', 27),\n",
       " ('~500', 4),\n",
       " ('190 researchers & lecturers, 153 administrative & technical staff', 2),\n",
       " ('Approximately 500', 1),\n",
       " ('4,478 employees', 64),\n",
       " ('Around 5,000', 48),\n",
       " ('>21,000', 2),\n",
       " ('?', 1),\n",
       " ('~100', 4),\n",
       " ('full-time, part-time', 1),\n",
       " ('Total: 1,608', 2),\n",
       " ('Total: 1,600', 16),\n",
       " ('Full-time: 1,469', 2),\n",
       " ('156 full-time; 229 part-time', 1),\n",
       " ('Part-time: 139', 2),\n",
       " ('960 full-time, 460 part-time', 16),\n",
       " ('appx. 20', 8),\n",
       " ('~', 1)]"
      ]
     },
     "execution_count": 651,
     "metadata": {},
     "output_type": "execute_result"
    }
   ],
   "source": [
    "odds = {}\n",
    "for i in df['numStaff']:\n",
    "    if not isDigit(i):\n",
    "        try:\n",
    "            odds[i] += 1\n",
    "        except:\n",
    "            odds[i] = 1\n",
    "\n",
    "odds.items()"
   ]
  },
  {
   "cell_type": "code",
   "execution_count": 652,
   "metadata": {
    "ExecuteTime": {
     "end_time": "2017-11-19T21:19:16.653626",
     "start_time": "2017-11-19T21:19:16.551346"
    },
    "collapsed": true
   },
   "outputs": [],
   "source": [
    "df.numStaff = [str(i).replace('Total: ', '').replace(',', '') for i in df.numStaff]\n",
    "df.numStaff = [str(i).replace('>', '').replace('~', '') for i in df.numStaff]\n",
    "df.numStaff = [str(i).replace('Around ', '').replace('appx. ', '') for i in df.numStaff]\n",
    "df.numStaff = [str(i).replace(' employees', '').replace('Approximately ', '') for i in df.numStaff]\n",
    "df.numStaff = [str(i).replace('Full-time: ', '').replace('Part-time: ', '') for i in df.numStaff]\n",
    "df.numStaff = [str(i).replace('approximately ', '') for i in df.numStaff]\n",
    "df.numStaff = [str(i).split(' ')[0] for i in df.numStaff]\n",
    "\n"
   ]
  },
  {
   "cell_type": "code",
   "execution_count": 653,
   "metadata": {
    "ExecuteTime": {
     "end_time": "2017-11-19T21:19:16.677906",
     "start_time": "2017-11-19T21:19:16.655844"
    },
    "collapsed": false
   },
   "outputs": [],
   "source": [
    "df['numStaff'] = df['numStaff'].apply(lambda x: np.float(x) \n",
    "                            if isDigit(x)\n",
    "                            else np.nan)"
   ]
  },
  {
   "cell_type": "markdown",
   "metadata": {},
   "source": [
    "## numPostgrad"
   ]
  },
  {
   "cell_type": "code",
   "execution_count": 654,
   "metadata": {
    "ExecuteTime": {
     "end_time": "2017-11-19T21:19:16.706916",
     "start_time": "2017-11-19T21:19:16.679545"
    },
    "collapsed": false
   },
   "outputs": [
    {
     "data": {
      "text/plain": [
       "[('268 full-time MBA', 24),\n",
       " ('approx. 300', 1),\n",
       " ('~650', 4),\n",
       " ('n/a', 1),\n",
       " ('Aprx. 2,000', 2),\n",
       " ('630 Dickinson School of Law', 640),\n",
       " ('120+', 8),\n",
       " ('795 Great Valley', 640),\n",
       " ('Does not offer postgraduate studies', 1),\n",
       " ('~3,914', 1),\n",
       " ('4,937 full-time, 1,446 part-time', 2),\n",
       " ('800 College of Medicine', 640),\n",
       " ('not available', 1),\n",
       " ('~3,200', 2),\n",
       " ('Masters of Business Administration in Community Economic Development', 20),\n",
       " ('Some postdoctoral students and visiting scholars', 1),\n",
       " ('postgraduate level degree available', 1),\n",
       " ('~160', 3),\n",
       " ('142 Ph.D. students', 2),\n",
       " ('1,682 Commonwealth Campuses', 640),\n",
       " ('available', 1),\n",
       " ('71 MLHR', 24),\n",
       " ('14,020 Total', 640),\n",
       " ('Approximately 1000', 1),\n",
       " ('Approx. 600', 1),\n",
       " ('----', 4),\n",
       " ('~500', 4),\n",
       " ('~5,500', 2),\n",
       " ('~60', 4),\n",
       " ('325 part-time MBA', 24),\n",
       " ('over 1,300', 1),\n",
       " ('N\\\\A', 9),\n",
       " ('none', 1),\n",
       " ('6,223 University Park', 640),\n",
       " ('ca. 3,230', 2),\n",
       " ('95 MAcc', 24),\n",
       " ('9,957 \\xe2\\x80\\x93 Vancouver', 24),\n",
       " ('531 \\xe2\\x80\\x93 Okanagan', 24),\n",
       " ('3,890 World Campus', 640),\n",
       " ('TBD', 2)]"
      ]
     },
     "execution_count": 654,
     "metadata": {},
     "output_type": "execute_result"
    }
   ],
   "source": [
    "odds = {}\n",
    "for i in df['numPostgrad']:\n",
    "    if not isDigit(i):\n",
    "        try:\n",
    "            odds[i] += 1\n",
    "        except:\n",
    "            odds[i] = 1\n",
    "\n",
    "odds.items()"
   ]
  },
  {
   "cell_type": "code",
   "execution_count": 655,
   "metadata": {
    "ExecuteTime": {
     "end_time": "2017-11-19T21:19:16.782790",
     "start_time": "2017-11-19T21:19:16.708934"
    },
    "collapsed": true
   },
   "outputs": [],
   "source": [
    "df.numPostgrad = [str(i).replace('~', '').replace(',', '') for i in df.numPostgrad]\n",
    "df.numPostgrad = [str(i).replace('approx. ', '').replace('Approx. ', '') for i in df.numPostgrad]\n",
    "df.numPostgrad = [str(i).replace('Approximately ', '').replace('Aprx. ', '') for i in df.numPostgrad]\n",
    "df.numPostgrad = [str(i).replace('+', '').replace('over', '') for i in df.numPostgrad]\n",
    "\n",
    "df.numPostgrad = [str(i).split(' ')[0] for i in df.numPostgrad]\n"
   ]
  },
  {
   "cell_type": "code",
   "execution_count": 656,
   "metadata": {
    "ExecuteTime": {
     "end_time": "2017-11-19T21:19:16.807213",
     "start_time": "2017-11-19T21:19:16.784780"
    },
    "collapsed": true
   },
   "outputs": [],
   "source": [
    "df['numPostgrad'] = df['numPostgrad'].apply(lambda x: np.float(x) \n",
    "                            if isDigit(x)\n",
    "                            else np.nan)"
   ]
  },
  {
   "cell_type": "markdown",
   "metadata": {},
   "source": [
    "## numUndergrad"
   ]
  },
  {
   "cell_type": "code",
   "execution_count": 657,
   "metadata": {
    "ExecuteTime": {
     "end_time": "2017-11-19T21:19:16.836834",
     "start_time": "2017-11-19T21:19:16.809119"
    },
    "collapsed": false
   },
   "outputs": [
    {
     "data": {
      "text/plain": [
       "[('4,747 full-time', 96),\n",
       " ('over 2,000', 1),\n",
       " ('Approximately 10,000', 1),\n",
       " ('2,000+', 8),\n",
       " ('approximately 1,500', 1),\n",
       " ('n/a', 1),\n",
       " ('Aprx. 2,000', 2),\n",
       " ('School of Liberal Arts; School of Science & Technology; School of Graduate & Professional Studies; Shannon School of Business',\n",
       "  20),\n",
       " ('approx. 2,000', 1),\n",
       " ('36,518 \\xe2\\x80\\x93 Vancouver', 24),\n",
       " ('~25,000', 2),\n",
       " ('65 per year', 1),\n",
       " ('77,179 Total', 896),\n",
       " ('approx. 1,200', 8),\n",
       " ('Approx. 12,000', 2),\n",
       " ('38,594  University Park', 896),\n",
       " ('32,295 Commonwealth Campuses', 896),\n",
       " ('Approximately 2,300', 1),\n",
       " ('7,004 \\xe2\\x80\\x93 Okanagan', 24),\n",
       " ('~400', 1),\n",
       " ('pre-university students; technical', 1),\n",
       " ('Around 10,000', 2),\n",
       " ('available', 3),\n",
       " ('21,726 -', 24),\n",
       " ('None', 1),\n",
       " ('900+', 1),\n",
       " ('475 Resident Undergraduates', 1),\n",
       " ('ca. 3,046', 2),\n",
       " ('Approx. 7,100', 1),\n",
       " ('6,290 PA College of Tech', 896),\n",
       " ('4,634 World Campus', 896),\n",
       " ('28,477 full-time, 2,102 part-time', 2),\n",
       " ('none', 1),\n",
       " ('approx. 2,150', 4),\n",
       " ('Approximately 730', 1),\n",
       " ('~13,000', 2),\n",
       " ('~2,000', 4),\n",
       " ('diploma, degree available', 1),\n",
       " ('Approx. 13,000', 1),\n",
       " ('2,000 traditional', 1),\n",
       " ('~1,560', 1),\n",
       " ('???', 1),\n",
       " ('~1,550', 4)]"
      ]
     },
     "execution_count": 657,
     "metadata": {},
     "output_type": "execute_result"
    }
   ],
   "source": [
    "odds = {}\n",
    "for i in df['numUndergrad']:\n",
    "    if not isDigit(i):\n",
    "        try:\n",
    "            odds[i] += 1\n",
    "        except:\n",
    "            odds[i] = 1\n",
    "\n",
    "odds.items()"
   ]
  },
  {
   "cell_type": "code",
   "execution_count": 658,
   "metadata": {
    "ExecuteTime": {
     "end_time": "2017-11-19T21:19:16.927882",
     "start_time": "2017-11-19T21:19:16.839340"
    },
    "collapsed": true
   },
   "outputs": [],
   "source": [
    "df.numUndergrad = [str(i).replace('~', '').replace(',', '') for i in df.numUndergrad]\n",
    "df.numUndergrad = [str(i).replace('approx. ', '').replace('Approx. ', '') for i in df.numUndergrad]\n",
    "df.numUndergrad = [str(i).replace('Approximately ', '').replace('Aprx. ', '') for i in df.numUndergrad]\n",
    "df.numUndergrad = [str(i).replace('approximately ', '').replace('Around ', '') for i in df.numUndergrad]\n",
    "df.numUndergrad = [str(i).replace('+', '').replace('over', '') for i in df.numUndergrad]\n",
    "df.numUndergrad = [str(i).split(' ')[0] for i in df.numUndergrad]"
   ]
  },
  {
   "cell_type": "code",
   "execution_count": 659,
   "metadata": {
    "ExecuteTime": {
     "end_time": "2017-11-19T21:19:16.948433",
     "start_time": "2017-11-19T21:19:16.929504"
    },
    "collapsed": true
   },
   "outputs": [],
   "source": [
    "df['numUndergrad'] = df['numUndergrad'].apply(lambda x: np.float(x) \n",
    "                            if isDigit(x)\n",
    "                            else np.nan)"
   ]
  },
  {
   "cell_type": "markdown",
   "metadata": {},
   "source": [
    "## established"
   ]
  },
  {
   "cell_type": "code",
   "execution_count": 660,
   "metadata": {
    "ExecuteTime": {
     "end_time": "2017-11-19T21:19:16.961100",
     "start_time": "2017-11-19T21:19:16.949985"
    },
    "collapsed": false
   },
   "outputs": [
    {
     "data": {
      "text/plain": [
       "0                            2005\n",
       "2                            1835\n",
       "3                            1967\n",
       "4                            1878\n",
       "5                            1878\n",
       "6                            1901\n",
       "7                            1901\n",
       "8                            1947\n",
       "9                            1947\n",
       "10                           1963\n",
       "11                           1963\n",
       "12       1963 - university status\n",
       "13       1963 - university status\n",
       "14       1947 - four-year college\n",
       "15       1947 - four-year college\n",
       "16                         1901 -\n",
       "17                         1901 -\n",
       "18                           1924\n",
       "19                           1924\n",
       "22                           1970\n",
       "23                     1918-05-01\n",
       "24                           1925\n",
       "25               Established 1985\n",
       "26                 Chartered 1984\n",
       "27                           1994\n",
       "28                           1947\n",
       "29                           1948\n",
       "30                           1878\n",
       "31                     2004-09-30\n",
       "32                     2004-09-30\n",
       "                   ...           \n",
       "74996                        1848\n",
       "74997                        1848\n",
       "74998                        1848\n",
       "74999                        1848\n",
       "75000                        1848\n",
       "75001                        1848\n",
       "75002                        1848\n",
       "75003                        1848\n",
       "75004                  1881-08-28\n",
       "75006                  1855-10-15\n",
       "75007                        1911\n",
       "75008                        1964\n",
       "75009                        1964\n",
       "75010                        1964\n",
       "75011                        1851\n",
       "75012                        1851\n",
       "75013                        1851\n",
       "75014                        1851\n",
       "75015                        1851\n",
       "75016                        1851\n",
       "75017                        1851\n",
       "75018                        1851\n",
       "75019                        1851\n",
       "75020                        1851\n",
       "75021                        1851\n",
       "75022                        1851\n",
       "75023                        1851\n",
       "75024                        1851\n",
       "75025                        1851\n",
       "75026                        1851\n",
       "Name: established, dtype: object"
      ]
     },
     "execution_count": 660,
     "metadata": {},
     "output_type": "execute_result"
    }
   ],
   "source": [
    "df.established"
   ]
  },
  {
   "cell_type": "code",
   "execution_count": 692,
   "metadata": {
    "ExecuteTime": {
     "end_time": "2017-11-19T21:32:18.325596",
     "start_time": "2017-11-19T21:32:18.316116"
    },
    "collapsed": false
   },
   "outputs": [
    {
     "data": {
      "text/plain": [
       "[]"
      ]
     },
     "execution_count": 692,
     "metadata": {},
     "output_type": "execute_result"
    }
   ],
   "source": [
    "odds = {}\n",
    "for i in df['established']:\n",
    "    if not isDigit(i):\n",
    "        try:\n",
    "            odds[i] += 1\n",
    "        except:\n",
    "            odds[i] = 1\n",
    "\n",
    "odds.items()[:5]"
   ]
  },
  {
   "cell_type": "code",
   "execution_count": 662,
   "metadata": {
    "ExecuteTime": {
     "end_time": "2017-11-19T21:19:17.007845",
     "start_time": "2017-11-19T21:19:17.002867"
    },
    "collapsed": false
   },
   "outputs": [],
   "source": [
    "import re\n",
    "\n",
    "def getYear(s):\n",
    "    try:\n",
    "        match = re.match(r'.*([1-3][0-9]{3})', s)\n",
    "        return np.int(match.group(1))\n",
    "    except:\n",
    "        return np.nan"
   ]
  },
  {
   "cell_type": "code",
   "execution_count": 663,
   "metadata": {
    "ExecuteTime": {
     "end_time": "2017-11-19T21:19:17.074646",
     "start_time": "2017-11-19T21:19:17.009386"
    },
    "collapsed": false
   },
   "outputs": [],
   "source": [
    "df.established = [getYear(i) for i in df.established]"
   ]
  },
  {
   "cell_type": "code",
   "execution_count": 664,
   "metadata": {
    "ExecuteTime": {
     "end_time": "2017-11-19T21:19:17.130181",
     "start_time": "2017-11-19T21:19:17.076340"
    },
    "collapsed": false
   },
   "outputs": [
    {
     "data": {
      "text/html": [
       "<div>\n",
       "<table border=\"1\" class=\"dataframe\">\n",
       "  <thead>\n",
       "    <tr style=\"text-align: right;\">\n",
       "      <th></th>\n",
       "      <th>endowment</th>\n",
       "      <th>numFaculty</th>\n",
       "      <th>numDoctoral</th>\n",
       "      <th>numStaff</th>\n",
       "      <th>established</th>\n",
       "      <th>numPostgrad</th>\n",
       "      <th>numUndergrad</th>\n",
       "      <th>numStudents</th>\n",
       "    </tr>\n",
       "  </thead>\n",
       "  <tbody>\n",
       "    <tr>\n",
       "      <th>count</th>\n",
       "      <td>1.490400e+04</td>\n",
       "      <td>1.348700e+04</td>\n",
       "      <td>1.348700e+04</td>\n",
       "      <td>3.161000e+03</td>\n",
       "      <td>15186.000000</td>\n",
       "      <td>1.513800e+04</td>\n",
       "      <td>1.550000e+04</td>\n",
       "      <td>1.380000e+04</td>\n",
       "    </tr>\n",
       "    <tr>\n",
       "      <th>mean</th>\n",
       "      <td>2.149103e+09</td>\n",
       "      <td>8.695432e+03</td>\n",
       "      <td>8.695432e+03</td>\n",
       "      <td>1.057127e+04</td>\n",
       "      <td>1865.196036</td>\n",
       "      <td>1.104538e+04</td>\n",
       "      <td>2.762582e+05</td>\n",
       "      <td>3.934969e+05</td>\n",
       "    </tr>\n",
       "    <tr>\n",
       "      <th>std</th>\n",
       "      <td>1.927573e+10</td>\n",
       "      <td>1.286384e+05</td>\n",
       "      <td>1.286384e+05</td>\n",
       "      <td>2.483439e+05</td>\n",
       "      <td>65.865596</td>\n",
       "      <td>3.622826e+05</td>\n",
       "      <td>2.581618e+07</td>\n",
       "      <td>3.585477e+07</td>\n",
       "    </tr>\n",
       "    <tr>\n",
       "      <th>min</th>\n",
       "      <td>0.000000e+00</td>\n",
       "      <td>1.000000e+00</td>\n",
       "      <td>1.000000e+00</td>\n",
       "      <td>2.000000e+00</td>\n",
       "      <td>1066.000000</td>\n",
       "      <td>0.000000e+00</td>\n",
       "      <td>0.000000e+00</td>\n",
       "      <td>2.000000e+00</td>\n",
       "    </tr>\n",
       "    <tr>\n",
       "      <th>25%</th>\n",
       "      <td>2.430000e+08</td>\n",
       "      <td>1.953000e+03</td>\n",
       "      <td>1.953000e+03</td>\n",
       "      <td>1.592000e+03</td>\n",
       "      <td>1855.000000</td>\n",
       "      <td>8.000000e+02</td>\n",
       "      <td>6.290000e+03</td>\n",
       "      <td>1.065000e+03</td>\n",
       "    </tr>\n",
       "    <tr>\n",
       "      <th>50%</th>\n",
       "      <td>1.546000e+09</td>\n",
       "      <td>8.864000e+03</td>\n",
       "      <td>8.864000e+03</td>\n",
       "      <td>2.799000e+03</td>\n",
       "      <td>1855.000000</td>\n",
       "      <td>3.067000e+03</td>\n",
       "      <td>1.782100e+04</td>\n",
       "      <td>1.068800e+04</td>\n",
       "    </tr>\n",
       "    <tr>\n",
       "      <th>75%</th>\n",
       "      <td>1.708000e+09</td>\n",
       "      <td>8.864000e+03</td>\n",
       "      <td>8.864000e+03</td>\n",
       "      <td>5.000000e+03</td>\n",
       "      <td>1881.000000</td>\n",
       "      <td>6.223000e+03</td>\n",
       "      <td>3.667500e+04</td>\n",
       "      <td>3.397700e+04</td>\n",
       "    </tr>\n",
       "    <tr>\n",
       "      <th>max</th>\n",
       "      <td>1.545840e+12</td>\n",
       "      <td>1.407201e+07</td>\n",
       "      <td>1.407201e+07</td>\n",
       "      <td>1.280201e+07</td>\n",
       "      <td>2012.000000</td>\n",
       "      <td>2.998201e+07</td>\n",
       "      <td>3.198523e+09</td>\n",
       "      <td>4.197033e+09</td>\n",
       "    </tr>\n",
       "  </tbody>\n",
       "</table>\n",
       "</div>"
      ],
      "text/plain": [
       "          endowment    numFaculty   numDoctoral      numStaff   established  \\\n",
       "count  1.490400e+04  1.348700e+04  1.348700e+04  3.161000e+03  15186.000000   \n",
       "mean   2.149103e+09  8.695432e+03  8.695432e+03  1.057127e+04   1865.196036   \n",
       "std    1.927573e+10  1.286384e+05  1.286384e+05  2.483439e+05     65.865596   \n",
       "min    0.000000e+00  1.000000e+00  1.000000e+00  2.000000e+00   1066.000000   \n",
       "25%    2.430000e+08  1.953000e+03  1.953000e+03  1.592000e+03   1855.000000   \n",
       "50%    1.546000e+09  8.864000e+03  8.864000e+03  2.799000e+03   1855.000000   \n",
       "75%    1.708000e+09  8.864000e+03  8.864000e+03  5.000000e+03   1881.000000   \n",
       "max    1.545840e+12  1.407201e+07  1.407201e+07  1.280201e+07   2012.000000   \n",
       "\n",
       "        numPostgrad  numUndergrad   numStudents  \n",
       "count  1.513800e+04  1.550000e+04  1.380000e+04  \n",
       "mean   1.104538e+04  2.762582e+05  3.934969e+05  \n",
       "std    3.622826e+05  2.581618e+07  3.585477e+07  \n",
       "min    0.000000e+00  0.000000e+00  2.000000e+00  \n",
       "25%    8.000000e+02  6.290000e+03  1.065000e+03  \n",
       "50%    3.067000e+03  1.782100e+04  1.068800e+04  \n",
       "75%    6.223000e+03  3.667500e+04  3.397700e+04  \n",
       "max    2.998201e+07  3.198523e+09  4.197033e+09  "
      ]
     },
     "execution_count": 664,
     "metadata": {},
     "output_type": "execute_result"
    }
   ],
   "source": [
    "df.describe()"
   ]
  },
  {
   "cell_type": "code",
   "execution_count": null,
   "metadata": {
    "collapsed": true
   },
   "outputs": [],
   "source": []
  },
  {
   "cell_type": "markdown",
   "metadata": {},
   "source": [
    "# University"
   ]
  },
  {
   "cell_type": "code",
   "execution_count": 665,
   "metadata": {
    "ExecuteTime": {
     "end_time": "2017-11-19T21:19:17.139904",
     "start_time": "2017-11-19T21:19:17.132475"
    },
    "collapsed": false
   },
   "outputs": [
    {
     "data": {
      "text/plain": [
       "(array(['Paris Universitas', 'Lumi%C3%A8re University Lyon 2',\n",
       "        'Confederation College', ..., 'University of San Francisco',\n",
       "        'Loyola Marymount University', 'Nova Southeastern University'], dtype=object),\n",
       " 1085)"
      ]
     },
     "execution_count": 665,
     "metadata": {},
     "output_type": "execute_result"
    }
   ],
   "source": [
    "df['university'].unique(), df['university'].unique().size"
   ]
  },
  {
   "cell_type": "code",
   "execution_count": 666,
   "metadata": {
    "ExecuteTime": {
     "end_time": "2017-11-19T21:19:17.144632",
     "start_time": "2017-11-19T21:19:17.141721"
    },
    "collapsed": false
   },
   "outputs": [],
   "source": [
    "# university_df = df.groupby('university').size()\n",
    "# for k in university_df.index:\n",
    "#     print(k, university_df[k])"
   ]
  },
  {
   "cell_type": "code",
   "execution_count": 590,
   "metadata": {
    "ExecuteTime": {
     "end_time": "2017-11-19T21:17:43.118670",
     "start_time": "2017-11-19T21:17:42.652039"
    },
    "collapsed": false
   },
   "outputs": [],
   "source": [
    "df.university = [str(i).replace('%2C', '').replace(',', '') for i in df.university]\n",
    "df.university = [str(i).replace('%C3%89', 'e').replace('%C3%A9', 'e') for i in df.university]\n",
    "df.university = [str(i).replace('%E2%80%93', ' ').replace('%22', '') for i in df.university]\n",
    "df.university = [str(i).replace('%C3%A3', 'a').replace('%C3%A7', 'c') for i in df.university]\n",
    "df.university = [str(i).replace('%C3%AA', 'e').replace('%C3%BA', 'u') for i in df.university]\n",
    "df.university = [str(i).replace('%C3%A1', 'a').replace('%C3%B3', 'o') for i in df.university]\n",
    "df.university = [str(i).replace('%CA%BB', \"'\").replace('%C4%81', 'a') for i in df.university]"
   ]
  },
  {
   "cell_type": "code",
   "execution_count": 667,
   "metadata": {
    "ExecuteTime": {
     "end_time": "2017-11-19T21:19:28.802398",
     "start_time": "2017-11-19T21:19:28.778277"
    },
    "collapsed": false
   },
   "outputs": [
    {
     "data": {
      "text/html": [
       "<div>\n",
       "<table border=\"1\" class=\"dataframe\">\n",
       "  <thead>\n",
       "    <tr style=\"text-align: right;\">\n",
       "      <th></th>\n",
       "      <th>university</th>\n",
       "      <th>endowment</th>\n",
       "      <th>numFaculty</th>\n",
       "      <th>numDoctoral</th>\n",
       "      <th>country</th>\n",
       "      <th>numStaff</th>\n",
       "      <th>established</th>\n",
       "      <th>numPostgrad</th>\n",
       "      <th>numUndergrad</th>\n",
       "      <th>numStudents</th>\n",
       "    </tr>\n",
       "  </thead>\n",
       "  <tbody>\n",
       "    <tr>\n",
       "      <th>0</th>\n",
       "      <td>Paris Universitas</td>\n",
       "      <td>15.0</td>\n",
       "      <td>5500.0</td>\n",
       "      <td>5500.0</td>\n",
       "      <td>France</td>\n",
       "      <td>NaN</td>\n",
       "      <td>2005.0</td>\n",
       "      <td>NaN</td>\n",
       "      <td>25000.0</td>\n",
       "      <td>70000.0</td>\n",
       "    </tr>\n",
       "    <tr>\n",
       "      <th>2</th>\n",
       "      <td>Lumi%C3%A8re University Lyon 2</td>\n",
       "      <td>121.0</td>\n",
       "      <td>NaN</td>\n",
       "      <td>NaN</td>\n",
       "      <td>France</td>\n",
       "      <td>NaN</td>\n",
       "      <td>1835.0</td>\n",
       "      <td>7046.0</td>\n",
       "      <td>14851.0</td>\n",
       "      <td>27393.0</td>\n",
       "    </tr>\n",
       "    <tr>\n",
       "      <th>3</th>\n",
       "      <td>Confederation College</td>\n",
       "      <td>4700000.0</td>\n",
       "      <td>NaN</td>\n",
       "      <td>NaN</td>\n",
       "      <td>Canada</td>\n",
       "      <td>NaN</td>\n",
       "      <td>1967.0</td>\n",
       "      <td>NaN</td>\n",
       "      <td>NaN</td>\n",
       "      <td>21160.0</td>\n",
       "    </tr>\n",
       "    <tr>\n",
       "      <th>4</th>\n",
       "      <td>Rocky Mountain College</td>\n",
       "      <td>16586100.0</td>\n",
       "      <td>NaN</td>\n",
       "      <td>NaN</td>\n",
       "      <td>USA</td>\n",
       "      <td>NaN</td>\n",
       "      <td>1878.0</td>\n",
       "      <td>66.0</td>\n",
       "      <td>878.0</td>\n",
       "      <td>894.0</td>\n",
       "    </tr>\n",
       "    <tr>\n",
       "      <th>5</th>\n",
       "      <td>Rocky Mountain College</td>\n",
       "      <td>16586100.0</td>\n",
       "      <td>NaN</td>\n",
       "      <td>NaN</td>\n",
       "      <td>USA</td>\n",
       "      <td>NaN</td>\n",
       "      <td>1878.0</td>\n",
       "      <td>66.0</td>\n",
       "      <td>878.0</td>\n",
       "      <td>894.0</td>\n",
       "    </tr>\n",
       "  </tbody>\n",
       "</table>\n",
       "</div>"
      ],
      "text/plain": [
       "                       university   endowment  numFaculty  numDoctoral  \\\n",
       "0               Paris Universitas        15.0      5500.0       5500.0   \n",
       "2  Lumi%C3%A8re University Lyon 2       121.0         NaN          NaN   \n",
       "3           Confederation College   4700000.0         NaN          NaN   \n",
       "4          Rocky Mountain College  16586100.0         NaN          NaN   \n",
       "5          Rocky Mountain College  16586100.0         NaN          NaN   \n",
       "\n",
       "  country  numStaff  established  numPostgrad  numUndergrad  numStudents  \n",
       "0  France       NaN       2005.0          NaN       25000.0      70000.0  \n",
       "2  France       NaN       1835.0       7046.0       14851.0      27393.0  \n",
       "3  Canada       NaN       1967.0          NaN           NaN      21160.0  \n",
       "4     USA       NaN       1878.0         66.0         878.0        894.0  \n",
       "5     USA       NaN       1878.0         66.0         878.0        894.0  "
      ]
     },
     "execution_count": 667,
     "metadata": {},
     "output_type": "execute_result"
    }
   ],
   "source": [
    "df.head()"
   ]
  },
  {
   "cell_type": "code",
   "execution_count": 668,
   "metadata": {
    "ExecuteTime": {
     "end_time": "2017-11-19T21:20:01.416464",
     "start_time": "2017-11-19T21:20:01.412896"
    },
    "collapsed": false
   },
   "outputs": [
    {
     "data": {
      "text/plain": [
       "15534"
      ]
     },
     "execution_count": 668,
     "metadata": {},
     "output_type": "execute_result"
    }
   ],
   "source": [
    "len(df)"
   ]
  },
  {
   "cell_type": "code",
   "execution_count": 669,
   "metadata": {
    "ExecuteTime": {
     "end_time": "2017-11-19T21:20:16.559123",
     "start_time": "2017-11-19T21:20:16.547916"
    },
    "collapsed": false
   },
   "outputs": [
    {
     "data": {
      "text/plain": [
       "4919"
      ]
     },
     "execution_count": 669,
     "metadata": {},
     "output_type": "execute_result"
    }
   ],
   "source": [
    "df = df.drop_duplicates()\n",
    "len(df)"
   ]
  },
  {
   "cell_type": "code",
   "execution_count": 670,
   "metadata": {
    "ExecuteTime": {
     "end_time": "2017-11-19T21:20:38.863147",
     "start_time": "2017-11-19T21:20:38.840958"
    },
    "collapsed": false
   },
   "outputs": [
    {
     "data": {
      "text/html": [
       "<div>\n",
       "<table border=\"1\" class=\"dataframe\">\n",
       "  <thead>\n",
       "    <tr style=\"text-align: right;\">\n",
       "      <th></th>\n",
       "      <th>university</th>\n",
       "      <th>endowment</th>\n",
       "      <th>numFaculty</th>\n",
       "      <th>numDoctoral</th>\n",
       "      <th>country</th>\n",
       "      <th>numStaff</th>\n",
       "      <th>established</th>\n",
       "      <th>numPostgrad</th>\n",
       "      <th>numUndergrad</th>\n",
       "      <th>numStudents</th>\n",
       "    </tr>\n",
       "  </thead>\n",
       "  <tbody>\n",
       "    <tr>\n",
       "      <th>0</th>\n",
       "      <td>Paris Universitas</td>\n",
       "      <td>15.0</td>\n",
       "      <td>5500.0</td>\n",
       "      <td>5500.0</td>\n",
       "      <td>France</td>\n",
       "      <td>NaN</td>\n",
       "      <td>2005.0</td>\n",
       "      <td>NaN</td>\n",
       "      <td>25000.0</td>\n",
       "      <td>70000.0</td>\n",
       "    </tr>\n",
       "    <tr>\n",
       "      <th>2</th>\n",
       "      <td>Lumi%C3%A8re University Lyon 2</td>\n",
       "      <td>121.0</td>\n",
       "      <td>NaN</td>\n",
       "      <td>NaN</td>\n",
       "      <td>France</td>\n",
       "      <td>NaN</td>\n",
       "      <td>1835.0</td>\n",
       "      <td>7046.0</td>\n",
       "      <td>14851.0</td>\n",
       "      <td>27393.0</td>\n",
       "    </tr>\n",
       "    <tr>\n",
       "      <th>3</th>\n",
       "      <td>Confederation College</td>\n",
       "      <td>4700000.0</td>\n",
       "      <td>NaN</td>\n",
       "      <td>NaN</td>\n",
       "      <td>Canada</td>\n",
       "      <td>NaN</td>\n",
       "      <td>1967.0</td>\n",
       "      <td>NaN</td>\n",
       "      <td>NaN</td>\n",
       "      <td>21160.0</td>\n",
       "    </tr>\n",
       "    <tr>\n",
       "      <th>4</th>\n",
       "      <td>Rocky Mountain College</td>\n",
       "      <td>16586100.0</td>\n",
       "      <td>NaN</td>\n",
       "      <td>NaN</td>\n",
       "      <td>USA</td>\n",
       "      <td>NaN</td>\n",
       "      <td>1878.0</td>\n",
       "      <td>66.0</td>\n",
       "      <td>878.0</td>\n",
       "      <td>894.0</td>\n",
       "    </tr>\n",
       "    <tr>\n",
       "      <th>6</th>\n",
       "      <td>Idaho State University</td>\n",
       "      <td>40200750.0</td>\n",
       "      <td>838.0</td>\n",
       "      <td>838.0</td>\n",
       "      <td>USA</td>\n",
       "      <td>1269.0</td>\n",
       "      <td>1901.0</td>\n",
       "      <td>2661.0</td>\n",
       "      <td>12892.0</td>\n",
       "      <td>15553.0</td>\n",
       "    </tr>\n",
       "  </tbody>\n",
       "</table>\n",
       "</div>"
      ],
      "text/plain": [
       "                       university   endowment  numFaculty  numDoctoral  \\\n",
       "0               Paris Universitas        15.0      5500.0       5500.0   \n",
       "2  Lumi%C3%A8re University Lyon 2       121.0         NaN          NaN   \n",
       "3           Confederation College   4700000.0         NaN          NaN   \n",
       "4          Rocky Mountain College  16586100.0         NaN          NaN   \n",
       "6          Idaho State University  40200750.0       838.0        838.0   \n",
       "\n",
       "  country  numStaff  established  numPostgrad  numUndergrad  numStudents  \n",
       "0  France       NaN       2005.0          NaN       25000.0      70000.0  \n",
       "2  France       NaN       1835.0       7046.0       14851.0      27393.0  \n",
       "3  Canada       NaN       1967.0          NaN           NaN      21160.0  \n",
       "4     USA       NaN       1878.0         66.0         878.0        894.0  \n",
       "6     USA    1269.0       1901.0       2661.0       12892.0      15553.0  "
      ]
     },
     "execution_count": 670,
     "metadata": {},
     "output_type": "execute_result"
    }
   ],
   "source": [
    "df.head()"
   ]
  },
  {
   "cell_type": "code",
   "execution_count": 671,
   "metadata": {
    "ExecuteTime": {
     "end_time": "2017-11-19T21:20:53.425613",
     "start_time": "2017-11-19T21:20:53.383484"
    },
    "collapsed": false
   },
   "outputs": [
    {
     "data": {
      "text/html": [
       "<div>\n",
       "<table border=\"1\" class=\"dataframe\">\n",
       "  <thead>\n",
       "    <tr style=\"text-align: right;\">\n",
       "      <th></th>\n",
       "      <th>endowment</th>\n",
       "      <th>numFaculty</th>\n",
       "      <th>numDoctoral</th>\n",
       "      <th>numStaff</th>\n",
       "      <th>established</th>\n",
       "      <th>numPostgrad</th>\n",
       "      <th>numUndergrad</th>\n",
       "      <th>numStudents</th>\n",
       "    </tr>\n",
       "  </thead>\n",
       "  <tbody>\n",
       "    <tr>\n",
       "      <th>count</th>\n",
       "      <td>4.585000e+03</td>\n",
       "      <td>3.650000e+03</td>\n",
       "      <td>3.650000e+03</td>\n",
       "      <td>2.159000e+03</td>\n",
       "      <td>4677.000000</td>\n",
       "      <td>4.568000e+03</td>\n",
       "      <td>4.887000e+03</td>\n",
       "      <td>3.734000e+03</td>\n",
       "    </tr>\n",
       "    <tr>\n",
       "      <th>mean</th>\n",
       "      <td>3.128695e+09</td>\n",
       "      <td>1.101300e+04</td>\n",
       "      <td>1.101300e+04</td>\n",
       "      <td>1.302496e+04</td>\n",
       "      <td>1879.911268</td>\n",
       "      <td>2.654159e+04</td>\n",
       "      <td>8.144919e+05</td>\n",
       "      <td>1.390889e+06</td>\n",
       "    </tr>\n",
       "    <tr>\n",
       "      <th>std</th>\n",
       "      <td>3.311783e+10</td>\n",
       "      <td>2.472490e+05</td>\n",
       "      <td>2.472490e+05</td>\n",
       "      <td>3.004688e+05</td>\n",
       "      <td>95.221953</td>\n",
       "      <td>6.592566e+05</td>\n",
       "      <td>4.597518e+07</td>\n",
       "      <td>6.892540e+07</td>\n",
       "    </tr>\n",
       "    <tr>\n",
       "      <th>min</th>\n",
       "      <td>0.000000e+00</td>\n",
       "      <td>1.000000e+00</td>\n",
       "      <td>1.000000e+00</td>\n",
       "      <td>2.000000e+00</td>\n",
       "      <td>1066.000000</td>\n",
       "      <td>0.000000e+00</td>\n",
       "      <td>0.000000e+00</td>\n",
       "      <td>2.000000e+00</td>\n",
       "    </tr>\n",
       "    <tr>\n",
       "      <th>25%</th>\n",
       "      <td>2.900000e+07</td>\n",
       "      <td>5.315000e+02</td>\n",
       "      <td>5.315000e+02</td>\n",
       "      <td>1.178000e+03</td>\n",
       "      <td>1855.000000</td>\n",
       "      <td>1.305000e+03</td>\n",
       "      <td>4.634000e+03</td>\n",
       "      <td>7.542000e+03</td>\n",
       "    </tr>\n",
       "    <tr>\n",
       "      <th>50%</th>\n",
       "      <td>1.892540e+08</td>\n",
       "      <td>1.099000e+03</td>\n",
       "      <td>1.099000e+03</td>\n",
       "      <td>2.211000e+03</td>\n",
       "      <td>1887.000000</td>\n",
       "      <td>3.364000e+03</td>\n",
       "      <td>1.348000e+04</td>\n",
       "      <td>1.933300e+04</td>\n",
       "    </tr>\n",
       "    <tr>\n",
       "      <th>75%</th>\n",
       "      <td>1.295000e+09</td>\n",
       "      <td>3.694000e+03</td>\n",
       "      <td>3.694000e+03</td>\n",
       "      <td>4.478000e+03</td>\n",
       "      <td>1924.000000</td>\n",
       "      <td>6.614250e+03</td>\n",
       "      <td>2.332800e+04</td>\n",
       "      <td>2.570000e+04</td>\n",
       "    </tr>\n",
       "    <tr>\n",
       "      <th>max</th>\n",
       "      <td>1.545840e+12</td>\n",
       "      <td>1.407201e+07</td>\n",
       "      <td>1.407201e+07</td>\n",
       "      <td>1.280201e+07</td>\n",
       "      <td>2012.000000</td>\n",
       "      <td>2.998201e+07</td>\n",
       "      <td>3.198523e+09</td>\n",
       "      <td>4.197033e+09</td>\n",
       "    </tr>\n",
       "  </tbody>\n",
       "</table>\n",
       "</div>"
      ],
      "text/plain": [
       "          endowment    numFaculty   numDoctoral      numStaff  established  \\\n",
       "count  4.585000e+03  3.650000e+03  3.650000e+03  2.159000e+03  4677.000000   \n",
       "mean   3.128695e+09  1.101300e+04  1.101300e+04  1.302496e+04  1879.911268   \n",
       "std    3.311783e+10  2.472490e+05  2.472490e+05  3.004688e+05    95.221953   \n",
       "min    0.000000e+00  1.000000e+00  1.000000e+00  2.000000e+00  1066.000000   \n",
       "25%    2.900000e+07  5.315000e+02  5.315000e+02  1.178000e+03  1855.000000   \n",
       "50%    1.892540e+08  1.099000e+03  1.099000e+03  2.211000e+03  1887.000000   \n",
       "75%    1.295000e+09  3.694000e+03  3.694000e+03  4.478000e+03  1924.000000   \n",
       "max    1.545840e+12  1.407201e+07  1.407201e+07  1.280201e+07  2012.000000   \n",
       "\n",
       "        numPostgrad  numUndergrad   numStudents  \n",
       "count  4.568000e+03  4.887000e+03  3.734000e+03  \n",
       "mean   2.654159e+04  8.144919e+05  1.390889e+06  \n",
       "std    6.592566e+05  4.597518e+07  6.892540e+07  \n",
       "min    0.000000e+00  0.000000e+00  2.000000e+00  \n",
       "25%    1.305000e+03  4.634000e+03  7.542000e+03  \n",
       "50%    3.364000e+03  1.348000e+04  1.933300e+04  \n",
       "75%    6.614250e+03  2.332800e+04  2.570000e+04  \n",
       "max    2.998201e+07  3.198523e+09  4.197033e+09  "
      ]
     },
     "execution_count": 671,
     "metadata": {},
     "output_type": "execute_result"
    }
   ],
   "source": [
    "df.describe()"
   ]
  },
  {
   "cell_type": "code",
   "execution_count": 672,
   "metadata": {
    "ExecuteTime": {
     "end_time": "2017-11-19T21:22:52.793806",
     "start_time": "2017-11-19T21:22:52.579574"
    },
    "collapsed": false
   },
   "outputs": [
    {
     "data": {
      "text/plain": [
       "<matplotlib.image.AxesImage at 0x11bd6fa50>"
      ]
     },
     "execution_count": 672,
     "metadata": {},
     "output_type": "execute_result"
    },
    {
     "data": {
      "image/png": "[encoded data removed]",
      "text/plain": [
       "<matplotlib.figure.Figure at 0x11a6b5e10>"
      ]
     },
     "metadata": {},
     "output_type": "display_data"
    }
   ],
   "source": [
    "plt.matshow(df.corr())"
   ]
  },
  {
   "cell_type": "code",
   "execution_count": 682,
   "metadata": {
    "ExecuteTime": {
     "end_time": "2017-11-19T21:28:08.518009",
     "start_time": "2017-11-19T21:28:08.130335"
    },
    "collapsed": false
   },
   "outputs": [
    {
     "data": {
      "image/png": "[encoded data removed]",
      "text/plain": [
       "<matplotlib.figure.Figure at 0x11a3d1990>"
      ]
     },
     "metadata": {},
     "output_type": "display_data"
    }
   ],
   "source": [
    "def correlation_matrix(df):\n",
    "    from matplotlib import pyplot as plt\n",
    "    from matplotlib import cm as cm\n",
    "\n",
    "    fig = plt.figure(figsize=(7, 7),facecolor='white')\n",
    "    ax1 = fig.add_subplot(111)\n",
    "    cmap = cm.get_cmap('jet', 30)\n",
    "    cax = ax1.imshow(df.corr(), interpolation=\"nearest\", cmap=cmap)\n",
    "    ax1.grid(True)\n",
    "    plt.title('Correlation')\n",
    "    labels=['','endowment','numFaculty','numDoctoral','numStaff',\\\n",
    "            'established','numPostgrad','numUndergrad','numStudents']\n",
    "    ax1.set_xticklabels(labels,fontsize=16, rotation = 90)\n",
    "    ax1.set_yticklabels(labels,fontsize=16)\n",
    "    # Add colorbar, make sure to specify tick locations to match desired ticklabels\n",
    "    fig.colorbar(cax)\n",
    "    plt.show()\n",
    "\n",
    "correlation_matrix(df)"
   ]
  },
  {
   "cell_type": "code",
   "execution_count": 690,
   "metadata": {
    "ExecuteTime": {
     "end_time": "2017-11-19T21:30:55.932844",
     "start_time": "2017-11-19T21:30:54.898248"
    },
    "collapsed": false
   },
   "outputs": [
    {
     "data": {
      "image/png": "[encoded data removed]",
      "text/plain": [
       "<matplotlib.figure.Figure at 0x1193165d0>"
      ]
     },
     "metadata": {},
     "output_type": "display_data"
    }
   ],
   "source": [
    "plt.plot(df.numStaff, df.numPostgrad, 'o')\n",
    "plt.yscale('log')\n",
    "plt.xscale('log')\n",
    "plt.xlabel('$Staff$', fontsize = 20)\n",
    "plt.ylabel('$Post\\;Graduates$', fontsize = 20)\n",
    "plt.show()"
   ]
  },
  {
   "cell_type": "code",
   "execution_count": null,
   "metadata": {
    "collapsed": true
   },
   "outputs": [],
   "source": []
  }
 ],
 "metadata": {
  "kernelspec": {
   "display_name": "Python 2",
   "language": "python",
   "name": "python2"
  },
  "language_info": {
   "codemirror_mode": {
    "name": "ipython",
    "version": 2
   },
   "file_extension": ".py",
   "mimetype": "text/x-python",
   "name": "python",
   "nbconvert_exporter": "python",
   "pygments_lexer": "ipython2",
   "version": "2.7.12"
  },
  "latex_envs": {
   "bibliofile": "biblio.bib",
   "cite_by": "apalike",
   "current_citInitial": 1,
   "eqLabelWithNumbers": true,
   "eqNumInitial": 0
  },
  "toc": {
   "toc_cell": false,
   "toc_number_sections": true,
   "toc_threshold": 6,
   "toc_window_display": false
  }
 },
 "nbformat": 4,
 "nbformat_minor": 0
}
